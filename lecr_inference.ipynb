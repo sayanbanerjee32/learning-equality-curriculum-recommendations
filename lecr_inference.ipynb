{
  "nbformat": 4,
  "nbformat_minor": 0,
  "metadata": {
    "colab": {
      "provenance": [],
      "mount_file_id": "1UBb7B2lvilaEjIOiRZrxZsDldfXYVK7f",
      "authorship_tag": "ABX9TyNt6SFbY1CefBKdijxBTd/w",
      "include_colab_link": true
    },
    "kernelspec": {
      "name": "python3",
      "display_name": "Python 3"
    },
    "language_info": {
      "name": "python"
    },
    "gpuClass": "standard",
    "accelerator": "GPU",
    "widgets": {
      "application/vnd.jupyter.widget-state+json": {
        "28c203c3793748fdaa85ca2365784321": {
          "model_module": "@jupyter-widgets/controls",
          "model_name": "HBoxModel",
          "model_module_version": "1.5.0",
          "state": {
            "_dom_classes": [],
            "_model_module": "@jupyter-widgets/controls",
            "_model_module_version": "1.5.0",
            "_model_name": "HBoxModel",
            "_view_count": null,
            "_view_module": "@jupyter-widgets/controls",
            "_view_module_version": "1.5.0",
            "_view_name": "HBoxView",
            "box_style": "",
            "children": [
              "IPY_MODEL_b7bdcd4cd1ec4aeb811d07d58b237b64",
              "IPY_MODEL_9610f9f56ded450d88034a8d7f8bedfa",
              "IPY_MODEL_9dbabd6f23894ecca8c1d5b4b6ccf89c"
            ],
            "layout": "IPY_MODEL_492a22c122cc494791786e6a89315de6"
          }
        },
        "b7bdcd4cd1ec4aeb811d07d58b237b64": {
          "model_module": "@jupyter-widgets/controls",
          "model_name": "HTMLModel",
          "model_module_version": "1.5.0",
          "state": {
            "_dom_classes": [],
            "_model_module": "@jupyter-widgets/controls",
            "_model_module_version": "1.5.0",
            "_model_name": "HTMLModel",
            "_view_count": null,
            "_view_module": "@jupyter-widgets/controls",
            "_view_module_version": "1.5.0",
            "_view_name": "HTMLView",
            "description": "",
            "description_tooltip": null,
            "layout": "IPY_MODEL_fc51476bf175415cb2f5038c085454f1",
            "placeholder": "​",
            "style": "IPY_MODEL_1063817847ee43c987c186c5c0c7a708",
            "value": "Map:   0%"
          }
        },
        "9610f9f56ded450d88034a8d7f8bedfa": {
          "model_module": "@jupyter-widgets/controls",
          "model_name": "FloatProgressModel",
          "model_module_version": "1.5.0",
          "state": {
            "_dom_classes": [],
            "_model_module": "@jupyter-widgets/controls",
            "_model_module_version": "1.5.0",
            "_model_name": "FloatProgressModel",
            "_view_count": null,
            "_view_module": "@jupyter-widgets/controls",
            "_view_module_version": "1.5.0",
            "_view_name": "ProgressView",
            "bar_style": "",
            "description": "",
            "description_tooltip": null,
            "layout": "IPY_MODEL_0f70f45de6fd4bb384b6a2d1366b3d67",
            "max": 81,
            "min": 0,
            "orientation": "horizontal",
            "style": "IPY_MODEL_05b3925893c24beaafd6f2376e2e599d",
            "value": 81
          }
        },
        "9dbabd6f23894ecca8c1d5b4b6ccf89c": {
          "model_module": "@jupyter-widgets/controls",
          "model_name": "HTMLModel",
          "model_module_version": "1.5.0",
          "state": {
            "_dom_classes": [],
            "_model_module": "@jupyter-widgets/controls",
            "_model_module_version": "1.5.0",
            "_model_name": "HTMLModel",
            "_view_count": null,
            "_view_module": "@jupyter-widgets/controls",
            "_view_module_version": "1.5.0",
            "_view_name": "HTMLView",
            "description": "",
            "description_tooltip": null,
            "layout": "IPY_MODEL_375bb23faa4d41bd86baa6b84360fb4f",
            "placeholder": "​",
            "style": "IPY_MODEL_b3a4ae76df5f4c2c8019d9b5c8481296",
            "value": " 0/81 [00:00&lt;?, ? examples/s]"
          }
        },
        "492a22c122cc494791786e6a89315de6": {
          "model_module": "@jupyter-widgets/base",
          "model_name": "LayoutModel",
          "model_module_version": "1.2.0",
          "state": {
            "_model_module": "@jupyter-widgets/base",
            "_model_module_version": "1.2.0",
            "_model_name": "LayoutModel",
            "_view_count": null,
            "_view_module": "@jupyter-widgets/base",
            "_view_module_version": "1.2.0",
            "_view_name": "LayoutView",
            "align_content": null,
            "align_items": null,
            "align_self": null,
            "border": null,
            "bottom": null,
            "display": null,
            "flex": null,
            "flex_flow": null,
            "grid_area": null,
            "grid_auto_columns": null,
            "grid_auto_flow": null,
            "grid_auto_rows": null,
            "grid_column": null,
            "grid_gap": null,
            "grid_row": null,
            "grid_template_areas": null,
            "grid_template_columns": null,
            "grid_template_rows": null,
            "height": null,
            "justify_content": null,
            "justify_items": null,
            "left": null,
            "margin": null,
            "max_height": null,
            "max_width": null,
            "min_height": null,
            "min_width": null,
            "object_fit": null,
            "object_position": null,
            "order": null,
            "overflow": null,
            "overflow_x": null,
            "overflow_y": null,
            "padding": null,
            "right": null,
            "top": null,
            "visibility": "hidden",
            "width": null
          }
        },
        "fc51476bf175415cb2f5038c085454f1": {
          "model_module": "@jupyter-widgets/base",
          "model_name": "LayoutModel",
          "model_module_version": "1.2.0",
          "state": {
            "_model_module": "@jupyter-widgets/base",
            "_model_module_version": "1.2.0",
            "_model_name": "LayoutModel",
            "_view_count": null,
            "_view_module": "@jupyter-widgets/base",
            "_view_module_version": "1.2.0",
            "_view_name": "LayoutView",
            "align_content": null,
            "align_items": null,
            "align_self": null,
            "border": null,
            "bottom": null,
            "display": null,
            "flex": null,
            "flex_flow": null,
            "grid_area": null,
            "grid_auto_columns": null,
            "grid_auto_flow": null,
            "grid_auto_rows": null,
            "grid_column": null,
            "grid_gap": null,
            "grid_row": null,
            "grid_template_areas": null,
            "grid_template_columns": null,
            "grid_template_rows": null,
            "height": null,
            "justify_content": null,
            "justify_items": null,
            "left": null,
            "margin": null,
            "max_height": null,
            "max_width": null,
            "min_height": null,
            "min_width": null,
            "object_fit": null,
            "object_position": null,
            "order": null,
            "overflow": null,
            "overflow_x": null,
            "overflow_y": null,
            "padding": null,
            "right": null,
            "top": null,
            "visibility": null,
            "width": null
          }
        },
        "1063817847ee43c987c186c5c0c7a708": {
          "model_module": "@jupyter-widgets/controls",
          "model_name": "DescriptionStyleModel",
          "model_module_version": "1.5.0",
          "state": {
            "_model_module": "@jupyter-widgets/controls",
            "_model_module_version": "1.5.0",
            "_model_name": "DescriptionStyleModel",
            "_view_count": null,
            "_view_module": "@jupyter-widgets/base",
            "_view_module_version": "1.2.0",
            "_view_name": "StyleView",
            "description_width": ""
          }
        },
        "0f70f45de6fd4bb384b6a2d1366b3d67": {
          "model_module": "@jupyter-widgets/base",
          "model_name": "LayoutModel",
          "model_module_version": "1.2.0",
          "state": {
            "_model_module": "@jupyter-widgets/base",
            "_model_module_version": "1.2.0",
            "_model_name": "LayoutModel",
            "_view_count": null,
            "_view_module": "@jupyter-widgets/base",
            "_view_module_version": "1.2.0",
            "_view_name": "LayoutView",
            "align_content": null,
            "align_items": null,
            "align_self": null,
            "border": null,
            "bottom": null,
            "display": null,
            "flex": null,
            "flex_flow": null,
            "grid_area": null,
            "grid_auto_columns": null,
            "grid_auto_flow": null,
            "grid_auto_rows": null,
            "grid_column": null,
            "grid_gap": null,
            "grid_row": null,
            "grid_template_areas": null,
            "grid_template_columns": null,
            "grid_template_rows": null,
            "height": null,
            "justify_content": null,
            "justify_items": null,
            "left": null,
            "margin": null,
            "max_height": null,
            "max_width": null,
            "min_height": null,
            "min_width": null,
            "object_fit": null,
            "object_position": null,
            "order": null,
            "overflow": null,
            "overflow_x": null,
            "overflow_y": null,
            "padding": null,
            "right": null,
            "top": null,
            "visibility": null,
            "width": null
          }
        },
        "05b3925893c24beaafd6f2376e2e599d": {
          "model_module": "@jupyter-widgets/controls",
          "model_name": "ProgressStyleModel",
          "model_module_version": "1.5.0",
          "state": {
            "_model_module": "@jupyter-widgets/controls",
            "_model_module_version": "1.5.0",
            "_model_name": "ProgressStyleModel",
            "_view_count": null,
            "_view_module": "@jupyter-widgets/base",
            "_view_module_version": "1.2.0",
            "_view_name": "StyleView",
            "bar_color": null,
            "description_width": ""
          }
        },
        "375bb23faa4d41bd86baa6b84360fb4f": {
          "model_module": "@jupyter-widgets/base",
          "model_name": "LayoutModel",
          "model_module_version": "1.2.0",
          "state": {
            "_model_module": "@jupyter-widgets/base",
            "_model_module_version": "1.2.0",
            "_model_name": "LayoutModel",
            "_view_count": null,
            "_view_module": "@jupyter-widgets/base",
            "_view_module_version": "1.2.0",
            "_view_name": "LayoutView",
            "align_content": null,
            "align_items": null,
            "align_self": null,
            "border": null,
            "bottom": null,
            "display": null,
            "flex": null,
            "flex_flow": null,
            "grid_area": null,
            "grid_auto_columns": null,
            "grid_auto_flow": null,
            "grid_auto_rows": null,
            "grid_column": null,
            "grid_gap": null,
            "grid_row": null,
            "grid_template_areas": null,
            "grid_template_columns": null,
            "grid_template_rows": null,
            "height": null,
            "justify_content": null,
            "justify_items": null,
            "left": null,
            "margin": null,
            "max_height": null,
            "max_width": null,
            "min_height": null,
            "min_width": null,
            "object_fit": null,
            "object_position": null,
            "order": null,
            "overflow": null,
            "overflow_x": null,
            "overflow_y": null,
            "padding": null,
            "right": null,
            "top": null,
            "visibility": null,
            "width": null
          }
        },
        "b3a4ae76df5f4c2c8019d9b5c8481296": {
          "model_module": "@jupyter-widgets/controls",
          "model_name": "DescriptionStyleModel",
          "model_module_version": "1.5.0",
          "state": {
            "_model_module": "@jupyter-widgets/controls",
            "_model_module_version": "1.5.0",
            "_model_name": "DescriptionStyleModel",
            "_view_count": null,
            "_view_module": "@jupyter-widgets/base",
            "_view_module_version": "1.2.0",
            "_view_name": "StyleView",
            "description_width": ""
          }
        },
        "6cfa72af24c441688022d59b951fd7ba": {
          "model_module": "@jupyter-widgets/controls",
          "model_name": "HBoxModel",
          "model_module_version": "1.5.0",
          "state": {
            "_dom_classes": [],
            "_model_module": "@jupyter-widgets/controls",
            "_model_module_version": "1.5.0",
            "_model_name": "HBoxModel",
            "_view_count": null,
            "_view_module": "@jupyter-widgets/controls",
            "_view_module_version": "1.5.0",
            "_view_name": "HBoxView",
            "box_style": "",
            "children": [
              "IPY_MODEL_28117c2a221d446ca2c3de08698828b3",
              "IPY_MODEL_b432375eafa149cb831d82fe67a484e0",
              "IPY_MODEL_f9754ae578934460bd726eb5cdc6c941"
            ],
            "layout": "IPY_MODEL_b6b60dd5d29440d294f80337196c2d35"
          }
        },
        "28117c2a221d446ca2c3de08698828b3": {
          "model_module": "@jupyter-widgets/controls",
          "model_name": "HTMLModel",
          "model_module_version": "1.5.0",
          "state": {
            "_dom_classes": [],
            "_model_module": "@jupyter-widgets/controls",
            "_model_module_version": "1.5.0",
            "_model_name": "HTMLModel",
            "_view_count": null,
            "_view_module": "@jupyter-widgets/controls",
            "_view_module_version": "1.5.0",
            "_view_name": "HTMLView",
            "description": "",
            "description_tooltip": null,
            "layout": "IPY_MODEL_1a253c51e56444daa8fa79c7064fca63",
            "placeholder": "​",
            "style": "IPY_MODEL_29f89ee80e514d6283ddc72af3a9b713",
            "value": "Map:   0%"
          }
        },
        "b432375eafa149cb831d82fe67a484e0": {
          "model_module": "@jupyter-widgets/controls",
          "model_name": "FloatProgressModel",
          "model_module_version": "1.5.0",
          "state": {
            "_dom_classes": [],
            "_model_module": "@jupyter-widgets/controls",
            "_model_module_version": "1.5.0",
            "_model_name": "FloatProgressModel",
            "_view_count": null,
            "_view_module": "@jupyter-widgets/controls",
            "_view_module_version": "1.5.0",
            "_view_name": "ProgressView",
            "bar_style": "",
            "description": "",
            "description_tooltip": null,
            "layout": "IPY_MODEL_a1bf1afd3dbc4757b858b857335878fd",
            "max": 81,
            "min": 0,
            "orientation": "horizontal",
            "style": "IPY_MODEL_d0e7d9839715441ebbd6947c2d6691b5",
            "value": 81
          }
        },
        "f9754ae578934460bd726eb5cdc6c941": {
          "model_module": "@jupyter-widgets/controls",
          "model_name": "HTMLModel",
          "model_module_version": "1.5.0",
          "state": {
            "_dom_classes": [],
            "_model_module": "@jupyter-widgets/controls",
            "_model_module_version": "1.5.0",
            "_model_name": "HTMLModel",
            "_view_count": null,
            "_view_module": "@jupyter-widgets/controls",
            "_view_module_version": "1.5.0",
            "_view_name": "HTMLView",
            "description": "",
            "description_tooltip": null,
            "layout": "IPY_MODEL_7eec632676f3490c8ada8298d00ae87f",
            "placeholder": "​",
            "style": "IPY_MODEL_ebad8d1dd569488f9491fe4f8f4ea0e7",
            "value": " 0/81 [00:00&lt;?, ? examples/s]"
          }
        },
        "b6b60dd5d29440d294f80337196c2d35": {
          "model_module": "@jupyter-widgets/base",
          "model_name": "LayoutModel",
          "model_module_version": "1.2.0",
          "state": {
            "_model_module": "@jupyter-widgets/base",
            "_model_module_version": "1.2.0",
            "_model_name": "LayoutModel",
            "_view_count": null,
            "_view_module": "@jupyter-widgets/base",
            "_view_module_version": "1.2.0",
            "_view_name": "LayoutView",
            "align_content": null,
            "align_items": null,
            "align_self": null,
            "border": null,
            "bottom": null,
            "display": null,
            "flex": null,
            "flex_flow": null,
            "grid_area": null,
            "grid_auto_columns": null,
            "grid_auto_flow": null,
            "grid_auto_rows": null,
            "grid_column": null,
            "grid_gap": null,
            "grid_row": null,
            "grid_template_areas": null,
            "grid_template_columns": null,
            "grid_template_rows": null,
            "height": null,
            "justify_content": null,
            "justify_items": null,
            "left": null,
            "margin": null,
            "max_height": null,
            "max_width": null,
            "min_height": null,
            "min_width": null,
            "object_fit": null,
            "object_position": null,
            "order": null,
            "overflow": null,
            "overflow_x": null,
            "overflow_y": null,
            "padding": null,
            "right": null,
            "top": null,
            "visibility": "hidden",
            "width": null
          }
        },
        "1a253c51e56444daa8fa79c7064fca63": {
          "model_module": "@jupyter-widgets/base",
          "model_name": "LayoutModel",
          "model_module_version": "1.2.0",
          "state": {
            "_model_module": "@jupyter-widgets/base",
            "_model_module_version": "1.2.0",
            "_model_name": "LayoutModel",
            "_view_count": null,
            "_view_module": "@jupyter-widgets/base",
            "_view_module_version": "1.2.0",
            "_view_name": "LayoutView",
            "align_content": null,
            "align_items": null,
            "align_self": null,
            "border": null,
            "bottom": null,
            "display": null,
            "flex": null,
            "flex_flow": null,
            "grid_area": null,
            "grid_auto_columns": null,
            "grid_auto_flow": null,
            "grid_auto_rows": null,
            "grid_column": null,
            "grid_gap": null,
            "grid_row": null,
            "grid_template_areas": null,
            "grid_template_columns": null,
            "grid_template_rows": null,
            "height": null,
            "justify_content": null,
            "justify_items": null,
            "left": null,
            "margin": null,
            "max_height": null,
            "max_width": null,
            "min_height": null,
            "min_width": null,
            "object_fit": null,
            "object_position": null,
            "order": null,
            "overflow": null,
            "overflow_x": null,
            "overflow_y": null,
            "padding": null,
            "right": null,
            "top": null,
            "visibility": null,
            "width": null
          }
        },
        "29f89ee80e514d6283ddc72af3a9b713": {
          "model_module": "@jupyter-widgets/controls",
          "model_name": "DescriptionStyleModel",
          "model_module_version": "1.5.0",
          "state": {
            "_model_module": "@jupyter-widgets/controls",
            "_model_module_version": "1.5.0",
            "_model_name": "DescriptionStyleModel",
            "_view_count": null,
            "_view_module": "@jupyter-widgets/base",
            "_view_module_version": "1.2.0",
            "_view_name": "StyleView",
            "description_width": ""
          }
        },
        "a1bf1afd3dbc4757b858b857335878fd": {
          "model_module": "@jupyter-widgets/base",
          "model_name": "LayoutModel",
          "model_module_version": "1.2.0",
          "state": {
            "_model_module": "@jupyter-widgets/base",
            "_model_module_version": "1.2.0",
            "_model_name": "LayoutModel",
            "_view_count": null,
            "_view_module": "@jupyter-widgets/base",
            "_view_module_version": "1.2.0",
            "_view_name": "LayoutView",
            "align_content": null,
            "align_items": null,
            "align_self": null,
            "border": null,
            "bottom": null,
            "display": null,
            "flex": null,
            "flex_flow": null,
            "grid_area": null,
            "grid_auto_columns": null,
            "grid_auto_flow": null,
            "grid_auto_rows": null,
            "grid_column": null,
            "grid_gap": null,
            "grid_row": null,
            "grid_template_areas": null,
            "grid_template_columns": null,
            "grid_template_rows": null,
            "height": null,
            "justify_content": null,
            "justify_items": null,
            "left": null,
            "margin": null,
            "max_height": null,
            "max_width": null,
            "min_height": null,
            "min_width": null,
            "object_fit": null,
            "object_position": null,
            "order": null,
            "overflow": null,
            "overflow_x": null,
            "overflow_y": null,
            "padding": null,
            "right": null,
            "top": null,
            "visibility": null,
            "width": null
          }
        },
        "d0e7d9839715441ebbd6947c2d6691b5": {
          "model_module": "@jupyter-widgets/controls",
          "model_name": "ProgressStyleModel",
          "model_module_version": "1.5.0",
          "state": {
            "_model_module": "@jupyter-widgets/controls",
            "_model_module_version": "1.5.0",
            "_model_name": "ProgressStyleModel",
            "_view_count": null,
            "_view_module": "@jupyter-widgets/base",
            "_view_module_version": "1.2.0",
            "_view_name": "StyleView",
            "bar_color": null,
            "description_width": ""
          }
        },
        "7eec632676f3490c8ada8298d00ae87f": {
          "model_module": "@jupyter-widgets/base",
          "model_name": "LayoutModel",
          "model_module_version": "1.2.0",
          "state": {
            "_model_module": "@jupyter-widgets/base",
            "_model_module_version": "1.2.0",
            "_model_name": "LayoutModel",
            "_view_count": null,
            "_view_module": "@jupyter-widgets/base",
            "_view_module_version": "1.2.0",
            "_view_name": "LayoutView",
            "align_content": null,
            "align_items": null,
            "align_self": null,
            "border": null,
            "bottom": null,
            "display": null,
            "flex": null,
            "flex_flow": null,
            "grid_area": null,
            "grid_auto_columns": null,
            "grid_auto_flow": null,
            "grid_auto_rows": null,
            "grid_column": null,
            "grid_gap": null,
            "grid_row": null,
            "grid_template_areas": null,
            "grid_template_columns": null,
            "grid_template_rows": null,
            "height": null,
            "justify_content": null,
            "justify_items": null,
            "left": null,
            "margin": null,
            "max_height": null,
            "max_width": null,
            "min_height": null,
            "min_width": null,
            "object_fit": null,
            "object_position": null,
            "order": null,
            "overflow": null,
            "overflow_x": null,
            "overflow_y": null,
            "padding": null,
            "right": null,
            "top": null,
            "visibility": null,
            "width": null
          }
        },
        "ebad8d1dd569488f9491fe4f8f4ea0e7": {
          "model_module": "@jupyter-widgets/controls",
          "model_name": "DescriptionStyleModel",
          "model_module_version": "1.5.0",
          "state": {
            "_model_module": "@jupyter-widgets/controls",
            "_model_module_version": "1.5.0",
            "_model_name": "DescriptionStyleModel",
            "_view_count": null,
            "_view_module": "@jupyter-widgets/base",
            "_view_module_version": "1.2.0",
            "_view_name": "StyleView",
            "description_width": ""
          }
        }
      }
    }
  },
  "cells": [
    {
      "cell_type": "markdown",
      "metadata": {
        "id": "view-in-github",
        "colab_type": "text"
      },
      "source": [
        "<a href=\"https://colab.research.google.com/github/sayanbanerjee32/learning-equality-curriculum-recommendations/blob/main/lecr_inference.ipynb\" target=\"_parent\"><img src=\"https://colab.research.google.com/assets/colab-badge.svg\" alt=\"Open In Colab\"/></a>"
      ]
    },
    {
      "cell_type": "code",
      "source": [
        "import os\n",
        "is_colab = not os.environ.get('KAGGLE_KERNEL_RUN_TYPE', '')"
      ],
      "metadata": {
        "id": "DbA8TMKLG0vx"
      },
      "execution_count": 49,
      "outputs": []
    },
    {
      "cell_type": "code",
      "source": [
        "if not is_colab:\n",
        "    !cp -r /kaggle/input/lecr-sentence-transformer-topic-embedding/learning-equality-curriculum-recommendations/ /kaggle/working/\n",
        "    !cp -r /kaggle/input/lecr-sentence-transformer-content-embd/learning-equality-curriculum-recommendations/ /kaggle/working/"
      ],
      "metadata": {
        "id": "tTjU1J-HNXJ2"
      },
      "execution_count": 50,
      "outputs": []
    },
    {
      "cell_type": "code",
      "execution_count": 51,
      "metadata": {
        "id": "7DkotQbHROx3"
      },
      "outputs": [],
      "source": [
        "# install fastkaggle if not available\n",
        "try: import fastkaggle\n",
        "except ModuleNotFoundError:\n",
        "    !pip install -Uq fastkaggle\n",
        "## install collab specific libraries\n",
        "if is_colab:\n",
        "    !pip install -Uq datasets\n",
        "    !pip install -Uq transformers\n",
        "    !pip install -Uq sentencepiece \n",
        "    !pip install -Uq pynvml\n",
        "\n",
        "!pip install -Uq sentence_transformers\n",
        "!pip install -Uq faiss-gpu"
      ]
    },
    {
      "cell_type": "code",
      "source": [
        "from fastkaggle import *\n",
        "from pathlib import Path\n",
        "import pandas as pd\n",
        "import numpy as np # linear algebra\n",
        "from tqdm.auto import tqdm\n",
        "import gc\n",
        "from functools import partial\n",
        "\n",
        "import torch\n",
        "from transformers import (AutoModelForSequenceClassification,\n",
        "                          AutoTokenizer, \n",
        "                          DataCollatorWithPadding, \n",
        "                          TrainingArguments,\n",
        "                          Trainer, \n",
        "                          IntervalStrategy)\n",
        "from datasets import Dataset, load_from_disk\n",
        "\n",
        "device = \"cuda\" if torch.cuda.is_available() else \"cpu\"\n",
        "%env TOKENIZERS_PARALLELISM=true"
      ],
      "metadata": {
        "id": "0Zyr28y9R80Y",
        "colab": {
          "base_uri": "https://localhost:8080/"
        },
        "outputId": "feb1187e-c3e9-4ce7-d991-ab2ac0f7590e"
      },
      "execution_count": 52,
      "outputs": [
        {
          "output_type": "stream",
          "name": "stdout",
          "text": [
            "env: TOKENIZERS_PARALLELISM=true\n"
          ]
        }
      ]
    },
    {
      "cell_type": "code",
      "source": [
        "# config depending on whether this is running on kaggle or collab\n",
        "# is_colab = True\n",
        "comp = 'learning-equality-curriculum-recommendations'\n",
        "if is_colab:\n",
        "    model_save_path = Path('/content/drive/MyDrive/Colab Notebooks/models/'+comp)\n",
        "    data_save_path = Path('/content/drive/MyDrive/Colab Notebooks/data/'+comp)\n",
        "else:\n",
        "    model_save_path = Path('/kaggle/input/lecr-xlmr-classification-baseline/'+comp) #+'/models')\n",
        "    data_save_path = Path('/kaggle/working/' + comp)"
      ],
      "metadata": {
        "id": "RVq-9GreSGbH"
      },
      "execution_count": 53,
      "outputs": []
    },
    {
      "cell_type": "code",
      "source": [
        "# import colab libraries\n",
        "if is_colab:\n",
        "    from google.colab import output\n",
        "    output.enable_custom_widget_manager()\n",
        "    from google.colab import drive\n",
        "    drive.mount('/content/drive')"
      ],
      "metadata": {
        "id": "wyQZ0XBTTLRI",
        "colab": {
          "base_uri": "https://localhost:8080/"
        },
        "outputId": "ddd5419b-f459-4ba1-8cf4-e307e53da708"
      },
      "execution_count": 54,
      "outputs": [
        {
          "output_type": "stream",
          "name": "stdout",
          "text": [
            "Drive already mounted at /content/drive; to attempt to forcibly remount, call drive.mount(\"/content/drive\", force_remount=True).\n"
          ]
        }
      ]
    },
    {
      "cell_type": "code",
      "source": [
        "# The Kaggle API client expects this file to be in ~/.kaggle,\n",
        "# so lets move it there.\n",
        "if is_colab:\n",
        "    !mkdir ~/.kaggle\n",
        "    !cp /content/drive/MyDrive/Kaggle_api_auth/kaggle.json ~/.kaggle/"
      ],
      "metadata": {
        "id": "HWsAe1DATQJ-",
        "colab": {
          "base_uri": "https://localhost:8080/"
        },
        "outputId": "418dbe43-1d36-4b2c-e900-69232b10225d"
      },
      "execution_count": 55,
      "outputs": [
        {
          "output_type": "stream",
          "name": "stdout",
          "text": [
            "mkdir: cannot create directory ‘/root/.kaggle’: File exists\n"
          ]
        }
      ]
    },
    {
      "cell_type": "code",
      "source": [
        "# This permissions change avoids a warning on Kaggle tool startup.\n",
        "if is_colab:\n",
        "    !chmod 600 ~/.kaggle/kaggle.json"
      ],
      "metadata": {
        "id": "mLpFZmEHTWom"
      },
      "execution_count": 56,
      "outputs": []
    },
    {
      "cell_type": "code",
      "source": [
        "path = setup_comp(comp)\n",
        "path"
      ],
      "metadata": {
        "id": "cOC__cK0TZ4n",
        "colab": {
          "base_uri": "https://localhost:8080/"
        },
        "outputId": "9de5a636-ce09-4c16-e1c9-fb0166a3727a"
      },
      "execution_count": 57,
      "outputs": [
        {
          "output_type": "execute_result",
          "data": {
            "text/plain": [
              "Path('learning-equality-curriculum-recommendations')"
            ]
          },
          "metadata": {},
          "execution_count": 57
        }
      ]
    },
    {
      "cell_type": "markdown",
      "source": [
        "### read all input files"
      ],
      "metadata": {
        "id": "RasEAB-oXPUu"
      }
    },
    {
      "cell_type": "code",
      "source": [
        "# load the data into pandas dataframes\n",
        "topics_df = pd.read_csv(path / \"topics.csv\", index_col=0).fillna({\"title\": \"\", \"description\": \"\"})\n",
        "content_df = pd.read_csv(path / \"content.csv\", index_col=0).fillna(\"\")"
      ],
      "metadata": {
        "id": "2MetFxKz6kQm"
      },
      "execution_count": 58,
      "outputs": []
    },
    {
      "cell_type": "code",
      "source": [
        "## checking number of median contents per topic\n",
        "correlations_df = pd.read_csv(path / \"correlations.csv\", index_col=0)\n",
        "correlations_df['count'] = correlations_df['content_ids'].apply(lambda x: len(x.split()))\n",
        "correlations_df['count'].describe()"
      ],
      "metadata": {
        "colab": {
          "base_uri": "https://localhost:8080/"
        },
        "id": "DOmv7GGJxpSh",
        "outputId": "c95d9141-d032-4d01-a87b-30fe2b191cc7"
      },
      "execution_count": 59,
      "outputs": [
        {
          "output_type": "execute_result",
          "data": {
            "text/plain": [
              "count    61517.000000\n",
              "mean         4.550271\n",
              "std          6.700255\n",
              "min          1.000000\n",
              "25%          2.000000\n",
              "50%          3.000000\n",
              "75%          5.000000\n",
              "max        293.000000\n",
              "Name: count, dtype: float64"
            ]
          },
          "metadata": {},
          "execution_count": 59
        }
      ]
    },
    {
      "cell_type": "code",
      "source": [
        "sample_submission_df = pd.read_csv(path / \"sample_submission.csv\")\n",
        "sample_submission_df.head()"
      ],
      "metadata": {
        "colab": {
          "base_uri": "https://localhost:8080/",
          "height": 206
        },
        "id": "qrMibj3L2Zpf",
        "outputId": "b8959a9b-ecb7-42dc-c671-f1ceac8c0b71"
      },
      "execution_count": 85,
      "outputs": [
        {
          "output_type": "execute_result",
          "data": {
            "text/plain": [
              "         topic_id                                        content_ids\n",
              "0  t_00004da3a1b2  c_1108dd0c7a5d c_376c5a8eb028 c_5bc0e1e2cba0 c...\n",
              "1  t_00068291e9a4  c_639ea2ef9c95 c_89ce9367be10 c_ac1672cdcd2c c...\n",
              "2  t_00069b63a70a                                     c_11a1dc0bfb99\n",
              "3  t_0006d41a73a8  c_0c6473c3480d c_1c57a1316568 c_5e375cf14c47 c...\n",
              "4  t_4054df11a74e                      c_3695c5dc1df6 c_f2d184a98231"
            ],
            "text/html": [
              "\n",
              "  <div id=\"df-c532ea58-fea7-4c91-a7ef-4cf88471bab7\">\n",
              "    <div class=\"colab-df-container\">\n",
              "      <div>\n",
              "<style scoped>\n",
              "    .dataframe tbody tr th:only-of-type {\n",
              "        vertical-align: middle;\n",
              "    }\n",
              "\n",
              "    .dataframe tbody tr th {\n",
              "        vertical-align: top;\n",
              "    }\n",
              "\n",
              "    .dataframe thead th {\n",
              "        text-align: right;\n",
              "    }\n",
              "</style>\n",
              "<table border=\"1\" class=\"dataframe\">\n",
              "  <thead>\n",
              "    <tr style=\"text-align: right;\">\n",
              "      <th></th>\n",
              "      <th>topic_id</th>\n",
              "      <th>content_ids</th>\n",
              "    </tr>\n",
              "  </thead>\n",
              "  <tbody>\n",
              "    <tr>\n",
              "      <th>0</th>\n",
              "      <td>t_00004da3a1b2</td>\n",
              "      <td>c_1108dd0c7a5d c_376c5a8eb028 c_5bc0e1e2cba0 c...</td>\n",
              "    </tr>\n",
              "    <tr>\n",
              "      <th>1</th>\n",
              "      <td>t_00068291e9a4</td>\n",
              "      <td>c_639ea2ef9c95 c_89ce9367be10 c_ac1672cdcd2c c...</td>\n",
              "    </tr>\n",
              "    <tr>\n",
              "      <th>2</th>\n",
              "      <td>t_00069b63a70a</td>\n",
              "      <td>c_11a1dc0bfb99</td>\n",
              "    </tr>\n",
              "    <tr>\n",
              "      <th>3</th>\n",
              "      <td>t_0006d41a73a8</td>\n",
              "      <td>c_0c6473c3480d c_1c57a1316568 c_5e375cf14c47 c...</td>\n",
              "    </tr>\n",
              "    <tr>\n",
              "      <th>4</th>\n",
              "      <td>t_4054df11a74e</td>\n",
              "      <td>c_3695c5dc1df6 c_f2d184a98231</td>\n",
              "    </tr>\n",
              "  </tbody>\n",
              "</table>\n",
              "</div>\n",
              "      <button class=\"colab-df-convert\" onclick=\"convertToInteractive('df-c532ea58-fea7-4c91-a7ef-4cf88471bab7')\"\n",
              "              title=\"Convert this dataframe to an interactive table.\"\n",
              "              style=\"display:none;\">\n",
              "        \n",
              "  <svg xmlns=\"http://www.w3.org/2000/svg\" height=\"24px\"viewBox=\"0 0 24 24\"\n",
              "       width=\"24px\">\n",
              "    <path d=\"M0 0h24v24H0V0z\" fill=\"none\"/>\n",
              "    <path d=\"M18.56 5.44l.94 2.06.94-2.06 2.06-.94-2.06-.94-.94-2.06-.94 2.06-2.06.94zm-11 1L8.5 8.5l.94-2.06 2.06-.94-2.06-.94L8.5 2.5l-.94 2.06-2.06.94zm10 10l.94 2.06.94-2.06 2.06-.94-2.06-.94-.94-2.06-.94 2.06-2.06.94z\"/><path d=\"M17.41 7.96l-1.37-1.37c-.4-.4-.92-.59-1.43-.59-.52 0-1.04.2-1.43.59L10.3 9.45l-7.72 7.72c-.78.78-.78 2.05 0 2.83L4 21.41c.39.39.9.59 1.41.59.51 0 1.02-.2 1.41-.59l7.78-7.78 2.81-2.81c.8-.78.8-2.07 0-2.86zM5.41 20L4 18.59l7.72-7.72 1.47 1.35L5.41 20z\"/>\n",
              "  </svg>\n",
              "      </button>\n",
              "      \n",
              "  <style>\n",
              "    .colab-df-container {\n",
              "      display:flex;\n",
              "      flex-wrap:wrap;\n",
              "      gap: 12px;\n",
              "    }\n",
              "\n",
              "    .colab-df-convert {\n",
              "      background-color: #E8F0FE;\n",
              "      border: none;\n",
              "      border-radius: 50%;\n",
              "      cursor: pointer;\n",
              "      display: none;\n",
              "      fill: #1967D2;\n",
              "      height: 32px;\n",
              "      padding: 0 0 0 0;\n",
              "      width: 32px;\n",
              "    }\n",
              "\n",
              "    .colab-df-convert:hover {\n",
              "      background-color: #E2EBFA;\n",
              "      box-shadow: 0px 1px 2px rgba(60, 64, 67, 0.3), 0px 1px 3px 1px rgba(60, 64, 67, 0.15);\n",
              "      fill: #174EA6;\n",
              "    }\n",
              "\n",
              "    [theme=dark] .colab-df-convert {\n",
              "      background-color: #3B4455;\n",
              "      fill: #D2E3FC;\n",
              "    }\n",
              "\n",
              "    [theme=dark] .colab-df-convert:hover {\n",
              "      background-color: #434B5C;\n",
              "      box-shadow: 0px 1px 3px 1px rgba(0, 0, 0, 0.15);\n",
              "      filter: drop-shadow(0px 1px 2px rgba(0, 0, 0, 0.3));\n",
              "      fill: #FFFFFF;\n",
              "    }\n",
              "  </style>\n",
              "\n",
              "      <script>\n",
              "        const buttonEl =\n",
              "          document.querySelector('#df-c532ea58-fea7-4c91-a7ef-4cf88471bab7 button.colab-df-convert');\n",
              "        buttonEl.style.display =\n",
              "          google.colab.kernel.accessAllowed ? 'block' : 'none';\n",
              "\n",
              "        async function convertToInteractive(key) {\n",
              "          const element = document.querySelector('#df-c532ea58-fea7-4c91-a7ef-4cf88471bab7');\n",
              "          const dataTable =\n",
              "            await google.colab.kernel.invokeFunction('convertToInteractive',\n",
              "                                                     [key], {});\n",
              "          if (!dataTable) return;\n",
              "\n",
              "          const docLinkHtml = 'Like what you see? Visit the ' +\n",
              "            '<a target=\"_blank\" href=https://colab.research.google.com/notebooks/data_table.ipynb>data table notebook</a>'\n",
              "            + ' to learn more about interactive tables.';\n",
              "          element.innerHTML = '';\n",
              "          dataTable['output_type'] = 'display_data';\n",
              "          await google.colab.output.renderOutput(dataTable, element);\n",
              "          const docLink = document.createElement('div');\n",
              "          docLink.innerHTML = docLinkHtml;\n",
              "          element.appendChild(docLink);\n",
              "        }\n",
              "      </script>\n",
              "    </div>\n",
              "  </div>\n",
              "  "
            ]
          },
          "metadata": {},
          "execution_count": 85
        }
      ]
    },
    {
      "cell_type": "code",
      "source": [
        "## list of topics for submission\n",
        "test_topics = sample_submission_df['topic_id'].to_list()\n",
        "test_topics[:10]"
      ],
      "metadata": {
        "colab": {
          "base_uri": "https://localhost:8080/"
        },
        "id": "4ssaRKTS7J_j",
        "outputId": "b32d04d7-d20e-46da-ad6f-6be9b4c655b6"
      },
      "execution_count": 86,
      "outputs": [
        {
          "output_type": "execute_result",
          "data": {
            "text/plain": [
              "['t_00004da3a1b2',\n",
              " 't_00068291e9a4',\n",
              " 't_00069b63a70a',\n",
              " 't_0006d41a73a8',\n",
              " 't_4054df11a74e']"
            ]
          },
          "metadata": {},
          "execution_count": 86
        }
      ]
    },
    {
      "cell_type": "markdown",
      "source": [
        "### Load saved topic embedding"
      ],
      "metadata": {
        "id": "vdj58j9V1OWs"
      }
    },
    {
      "cell_type": "code",
      "source": [
        "topic_ds = load_from_disk(data_save_path / 'topic_embeddings_dataset.hf')"
      ],
      "metadata": {
        "id": "gs9peWBF1Rzk"
      },
      "execution_count": 61,
      "outputs": []
    },
    {
      "cell_type": "code",
      "source": [
        "## test DS filter\n",
        "topic_embeddings_dataset = topic_ds.filter(lambda example: example[\"id\"] in test_topics)\n",
        "topic_embeddings_dataset"
      ],
      "metadata": {
        "colab": {
          "base_uri": "https://localhost:8080/"
        },
        "id": "6MPwvCa31fg-",
        "outputId": "e20ce549-655a-4d34-f118-aa98ae455293"
      },
      "execution_count": 62,
      "outputs": [
        {
          "output_type": "stream",
          "name": "stderr",
          "text": [
            "WARNING:datasets.arrow_dataset:Loading cached processed dataset at /content/drive/MyDrive/Colab Notebooks/data/learning-equality-curriculum-recommendations/topic_embeddings_dataset.hf/cache-6c6220bc87481af7.arrow\n"
          ]
        },
        {
          "output_type": "execute_result",
          "data": {
            "text/plain": [
              "Dataset({\n",
              "    features: ['title', 'description', 'channel', 'category', 'level', 'language', 'parent', 'has_content', 'id', 'concat_text', 'embeddings'],\n",
              "    num_rows: 5\n",
              "})"
            ]
          },
          "metadata": {},
          "execution_count": 62
        }
      ]
    },
    {
      "cell_type": "code",
      "source": [
        "### Need to check if topics are not there in existing topic embeddings\n",
        "assert len(topic_embeddings_dataset) == len(test_topics)"
      ],
      "metadata": {
        "id": "Ooz31O06wEsN"
      },
      "execution_count": 63,
      "outputs": []
    },
    {
      "cell_type": "markdown",
      "source": [
        "### Load saved Content DS and faiss index"
      ],
      "metadata": {
        "id": "Zr_ERlqgGWYR"
      }
    },
    {
      "cell_type": "code",
      "source": [
        "content_dataset = load_from_disk(data_save_path / 'content_dataset.hf')\n",
        "content_dataset.load_faiss_index('embeddings', data_save_path / 'content_embeddings_index.faiss')\n",
        "content_dataset"
      ],
      "metadata": {
        "colab": {
          "base_uri": "https://localhost:8080/"
        },
        "id": "Ea-MdOtJG8BG",
        "outputId": "94288c9d-b8da-4899-c047-3221efff748e"
      },
      "execution_count": 64,
      "outputs": [
        {
          "output_type": "execute_result",
          "data": {
            "text/plain": [
              "Dataset({\n",
              "    features: ['title', 'description', 'kind', 'text', 'language', 'copyright_holder', 'license', 'id', 'concat_text'],\n",
              "    num_rows: 38043\n",
              "})"
            ]
          },
          "metadata": {},
          "execution_count": 64
        }
      ]
    },
    {
      "cell_type": "markdown",
      "source": [
        "### Similarity search"
      ],
      "metadata": {
        "id": "oG06bxgoH8Ci"
      }
    },
    {
      "cell_type": "code",
      "source": [
        "SELECT_TOP_N = 25\n",
        "## using range search in order to get the indices\n",
        "faiss_index = content_dataset.get_index('embeddings').faiss_index\n",
        "limits, distances, indices = faiss_index.range_search(x=np.array(topic_embeddings_dataset['embeddings'], dtype=np.float32).reshape(len(topic_embeddings_dataset),-1),thresh=0.97)\n",
        "len(limits), len(indices), len(distances)"
      ],
      "metadata": {
        "colab": {
          "base_uri": "https://localhost:8080/"
        },
        "id": "FekO_yzwH71M",
        "outputId": "6fe7a4f9-6fa3-4b0e-d26a-37b43bc3cc3c"
      },
      "execution_count": 65,
      "outputs": [
        {
          "output_type": "execute_result",
          "data": {
            "text/plain": [
              "(6, 1888, 1888)"
            ]
          },
          "metadata": {},
          "execution_count": 65
        }
      ]
    },
    {
      "cell_type": "code",
      "source": [
        "correlation_dict = {}\n",
        "for i, j, t_id in zip(limits[:-1], limits[1:], topic_embeddings_dataset['id']):\n",
        "    sorted_indices = [x for _, x in sorted(zip(distances[i:j], indices[i:j]))]\n",
        "    correlation_dict[t_id] = ' '.join([content_dataset[int(ind)]['id'] for ind in sorted_indices[:SELECT_TOP_N]])\n",
        "\n",
        "correlation_df = pd.DataFrame(correlation_dict.items(), columns = ['topic_id','content_ids']).set_index('topic_id')\n",
        "print(correlation_df.info(null_counts = True))\n",
        "correlation_df.head()"
      ],
      "metadata": {
        "colab": {
          "base_uri": "https://localhost:8080/",
          "height": 428
        },
        "id": "qRpnMDmkIpli",
        "outputId": "77823dc9-46c1-41bd-abfc-32c4dc19d94a"
      },
      "execution_count": 66,
      "outputs": [
        {
          "output_type": "stream",
          "name": "stdout",
          "text": [
            "<class 'pandas.core.frame.DataFrame'>\n",
            "Index: 5 entries, t_00004da3a1b2 to t_4054df11a74e\n",
            "Data columns (total 1 columns):\n",
            " #   Column       Non-Null Count  Dtype \n",
            "---  ------       --------------  ----- \n",
            " 0   content_ids  5 non-null      object\n",
            "dtypes: object(1)\n",
            "memory usage: 80.0+ bytes\n",
            "None\n"
          ]
        },
        {
          "output_type": "stream",
          "name": "stderr",
          "text": [
            "<ipython-input-66-d3e083c0ef0f>:7: FutureWarning: null_counts is deprecated. Use show_counts instead\n",
            "  print(correlation_df.info(null_counts = True))\n"
          ]
        },
        {
          "output_type": "execute_result",
          "data": {
            "text/plain": [
              "                                                      content_ids\n",
              "topic_id                                                         \n",
              "t_00004da3a1b2  c_b59bc701c446 c_0962b290dcd2 c_3adfc7d4ebb5 c...\n",
              "t_00068291e9a4  c_85e7c0954384 c_ebb7fdf10a7e c_639ea2ef9c95 c...\n",
              "t_00069b63a70a       c_31caf438f66a c_a6db0765d460 c_ac592c567023\n",
              "t_0006d41a73a8  c_33699a2b161f c_2e165cfa1a05 c_9ad0e8f170e5 c...\n",
              "t_4054df11a74e  c_f2d184a98231 c_3695c5dc1df6 c_52f9df7e611a c..."
            ],
            "text/html": [
              "\n",
              "  <div id=\"df-f1502b51-afa2-4ed7-8852-1c03415be592\">\n",
              "    <div class=\"colab-df-container\">\n",
              "      <div>\n",
              "<style scoped>\n",
              "    .dataframe tbody tr th:only-of-type {\n",
              "        vertical-align: middle;\n",
              "    }\n",
              "\n",
              "    .dataframe tbody tr th {\n",
              "        vertical-align: top;\n",
              "    }\n",
              "\n",
              "    .dataframe thead th {\n",
              "        text-align: right;\n",
              "    }\n",
              "</style>\n",
              "<table border=\"1\" class=\"dataframe\">\n",
              "  <thead>\n",
              "    <tr style=\"text-align: right;\">\n",
              "      <th></th>\n",
              "      <th>content_ids</th>\n",
              "    </tr>\n",
              "    <tr>\n",
              "      <th>topic_id</th>\n",
              "      <th></th>\n",
              "    </tr>\n",
              "  </thead>\n",
              "  <tbody>\n",
              "    <tr>\n",
              "      <th>t_00004da3a1b2</th>\n",
              "      <td>c_b59bc701c446 c_0962b290dcd2 c_3adfc7d4ebb5 c...</td>\n",
              "    </tr>\n",
              "    <tr>\n",
              "      <th>t_00068291e9a4</th>\n",
              "      <td>c_85e7c0954384 c_ebb7fdf10a7e c_639ea2ef9c95 c...</td>\n",
              "    </tr>\n",
              "    <tr>\n",
              "      <th>t_00069b63a70a</th>\n",
              "      <td>c_31caf438f66a c_a6db0765d460 c_ac592c567023</td>\n",
              "    </tr>\n",
              "    <tr>\n",
              "      <th>t_0006d41a73a8</th>\n",
              "      <td>c_33699a2b161f c_2e165cfa1a05 c_9ad0e8f170e5 c...</td>\n",
              "    </tr>\n",
              "    <tr>\n",
              "      <th>t_4054df11a74e</th>\n",
              "      <td>c_f2d184a98231 c_3695c5dc1df6 c_52f9df7e611a c...</td>\n",
              "    </tr>\n",
              "  </tbody>\n",
              "</table>\n",
              "</div>\n",
              "      <button class=\"colab-df-convert\" onclick=\"convertToInteractive('df-f1502b51-afa2-4ed7-8852-1c03415be592')\"\n",
              "              title=\"Convert this dataframe to an interactive table.\"\n",
              "              style=\"display:none;\">\n",
              "        \n",
              "  <svg xmlns=\"http://www.w3.org/2000/svg\" height=\"24px\"viewBox=\"0 0 24 24\"\n",
              "       width=\"24px\">\n",
              "    <path d=\"M0 0h24v24H0V0z\" fill=\"none\"/>\n",
              "    <path d=\"M18.56 5.44l.94 2.06.94-2.06 2.06-.94-2.06-.94-.94-2.06-.94 2.06-2.06.94zm-11 1L8.5 8.5l.94-2.06 2.06-.94-2.06-.94L8.5 2.5l-.94 2.06-2.06.94zm10 10l.94 2.06.94-2.06 2.06-.94-2.06-.94-.94-2.06-.94 2.06-2.06.94z\"/><path d=\"M17.41 7.96l-1.37-1.37c-.4-.4-.92-.59-1.43-.59-.52 0-1.04.2-1.43.59L10.3 9.45l-7.72 7.72c-.78.78-.78 2.05 0 2.83L4 21.41c.39.39.9.59 1.41.59.51 0 1.02-.2 1.41-.59l7.78-7.78 2.81-2.81c.8-.78.8-2.07 0-2.86zM5.41 20L4 18.59l7.72-7.72 1.47 1.35L5.41 20z\"/>\n",
              "  </svg>\n",
              "      </button>\n",
              "      \n",
              "  <style>\n",
              "    .colab-df-container {\n",
              "      display:flex;\n",
              "      flex-wrap:wrap;\n",
              "      gap: 12px;\n",
              "    }\n",
              "\n",
              "    .colab-df-convert {\n",
              "      background-color: #E8F0FE;\n",
              "      border: none;\n",
              "      border-radius: 50%;\n",
              "      cursor: pointer;\n",
              "      display: none;\n",
              "      fill: #1967D2;\n",
              "      height: 32px;\n",
              "      padding: 0 0 0 0;\n",
              "      width: 32px;\n",
              "    }\n",
              "\n",
              "    .colab-df-convert:hover {\n",
              "      background-color: #E2EBFA;\n",
              "      box-shadow: 0px 1px 2px rgba(60, 64, 67, 0.3), 0px 1px 3px 1px rgba(60, 64, 67, 0.15);\n",
              "      fill: #174EA6;\n",
              "    }\n",
              "\n",
              "    [theme=dark] .colab-df-convert {\n",
              "      background-color: #3B4455;\n",
              "      fill: #D2E3FC;\n",
              "    }\n",
              "\n",
              "    [theme=dark] .colab-df-convert:hover {\n",
              "      background-color: #434B5C;\n",
              "      box-shadow: 0px 1px 3px 1px rgba(0, 0, 0, 0.15);\n",
              "      filter: drop-shadow(0px 1px 2px rgba(0, 0, 0, 0.3));\n",
              "      fill: #FFFFFF;\n",
              "    }\n",
              "  </style>\n",
              "\n",
              "      <script>\n",
              "        const buttonEl =\n",
              "          document.querySelector('#df-f1502b51-afa2-4ed7-8852-1c03415be592 button.colab-df-convert');\n",
              "        buttonEl.style.display =\n",
              "          google.colab.kernel.accessAllowed ? 'block' : 'none';\n",
              "\n",
              "        async function convertToInteractive(key) {\n",
              "          const element = document.querySelector('#df-f1502b51-afa2-4ed7-8852-1c03415be592');\n",
              "          const dataTable =\n",
              "            await google.colab.kernel.invokeFunction('convertToInteractive',\n",
              "                                                     [key], {});\n",
              "          if (!dataTable) return;\n",
              "\n",
              "          const docLinkHtml = 'Like what you see? Visit the ' +\n",
              "            '<a target=\"_blank\" href=https://colab.research.google.com/notebooks/data_table.ipynb>data table notebook</a>'\n",
              "            + ' to learn more about interactive tables.';\n",
              "          element.innerHTML = '';\n",
              "          dataTable['output_type'] = 'display_data';\n",
              "          await google.colab.output.renderOutput(dataTable, element);\n",
              "          const docLink = document.createElement('div');\n",
              "          docLink.innerHTML = docLinkHtml;\n",
              "          element.appendChild(docLink);\n",
              "        }\n",
              "      </script>\n",
              "    </div>\n",
              "  </div>\n",
              "  "
            ]
          },
          "metadata": {},
          "execution_count": 66
        }
      ]
    },
    {
      "cell_type": "code",
      "source": [
        "def process_correlations(correlations_df):\n",
        "    correlations = correlations_df.copy()\n",
        "    correlations.content_ids = correlations.content_ids.str.split()\n",
        "    correlations = correlations.explode(\"content_ids\").rename(columns={\"content_ids\": \"content_id\"}).reset_index()\n",
        "    return correlations\n",
        "correlations = process_correlations(correlation_df)\n",
        "correlations.head()"
      ],
      "metadata": {
        "colab": {
          "base_uri": "https://localhost:8080/",
          "height": 206
        },
        "id": "G_saf3dnPFfB",
        "outputId": "2fad6d49-bd5d-4f56-ff19-edd19caa1aa2"
      },
      "execution_count": 67,
      "outputs": [
        {
          "output_type": "execute_result",
          "data": {
            "text/plain": [
              "         topic_id      content_id\n",
              "0  t_00004da3a1b2  c_b59bc701c446\n",
              "1  t_00004da3a1b2  c_0962b290dcd2\n",
              "2  t_00004da3a1b2  c_3adfc7d4ebb5\n",
              "3  t_00004da3a1b2  c_d9f2fdeff0aa\n",
              "4  t_00004da3a1b2  c_0041092041cd"
            ],
            "text/html": [
              "\n",
              "  <div id=\"df-224a538f-e9c6-4a5c-841f-a43eec88b055\">\n",
              "    <div class=\"colab-df-container\">\n",
              "      <div>\n",
              "<style scoped>\n",
              "    .dataframe tbody tr th:only-of-type {\n",
              "        vertical-align: middle;\n",
              "    }\n",
              "\n",
              "    .dataframe tbody tr th {\n",
              "        vertical-align: top;\n",
              "    }\n",
              "\n",
              "    .dataframe thead th {\n",
              "        text-align: right;\n",
              "    }\n",
              "</style>\n",
              "<table border=\"1\" class=\"dataframe\">\n",
              "  <thead>\n",
              "    <tr style=\"text-align: right;\">\n",
              "      <th></th>\n",
              "      <th>topic_id</th>\n",
              "      <th>content_id</th>\n",
              "    </tr>\n",
              "  </thead>\n",
              "  <tbody>\n",
              "    <tr>\n",
              "      <th>0</th>\n",
              "      <td>t_00004da3a1b2</td>\n",
              "      <td>c_b59bc701c446</td>\n",
              "    </tr>\n",
              "    <tr>\n",
              "      <th>1</th>\n",
              "      <td>t_00004da3a1b2</td>\n",
              "      <td>c_0962b290dcd2</td>\n",
              "    </tr>\n",
              "    <tr>\n",
              "      <th>2</th>\n",
              "      <td>t_00004da3a1b2</td>\n",
              "      <td>c_3adfc7d4ebb5</td>\n",
              "    </tr>\n",
              "    <tr>\n",
              "      <th>3</th>\n",
              "      <td>t_00004da3a1b2</td>\n",
              "      <td>c_d9f2fdeff0aa</td>\n",
              "    </tr>\n",
              "    <tr>\n",
              "      <th>4</th>\n",
              "      <td>t_00004da3a1b2</td>\n",
              "      <td>c_0041092041cd</td>\n",
              "    </tr>\n",
              "  </tbody>\n",
              "</table>\n",
              "</div>\n",
              "      <button class=\"colab-df-convert\" onclick=\"convertToInteractive('df-224a538f-e9c6-4a5c-841f-a43eec88b055')\"\n",
              "              title=\"Convert this dataframe to an interactive table.\"\n",
              "              style=\"display:none;\">\n",
              "        \n",
              "  <svg xmlns=\"http://www.w3.org/2000/svg\" height=\"24px\"viewBox=\"0 0 24 24\"\n",
              "       width=\"24px\">\n",
              "    <path d=\"M0 0h24v24H0V0z\" fill=\"none\"/>\n",
              "    <path d=\"M18.56 5.44l.94 2.06.94-2.06 2.06-.94-2.06-.94-.94-2.06-.94 2.06-2.06.94zm-11 1L8.5 8.5l.94-2.06 2.06-.94-2.06-.94L8.5 2.5l-.94 2.06-2.06.94zm10 10l.94 2.06.94-2.06 2.06-.94-2.06-.94-.94-2.06-.94 2.06-2.06.94z\"/><path d=\"M17.41 7.96l-1.37-1.37c-.4-.4-.92-.59-1.43-.59-.52 0-1.04.2-1.43.59L10.3 9.45l-7.72 7.72c-.78.78-.78 2.05 0 2.83L4 21.41c.39.39.9.59 1.41.59.51 0 1.02-.2 1.41-.59l7.78-7.78 2.81-2.81c.8-.78.8-2.07 0-2.86zM5.41 20L4 18.59l7.72-7.72 1.47 1.35L5.41 20z\"/>\n",
              "  </svg>\n",
              "      </button>\n",
              "      \n",
              "  <style>\n",
              "    .colab-df-container {\n",
              "      display:flex;\n",
              "      flex-wrap:wrap;\n",
              "      gap: 12px;\n",
              "    }\n",
              "\n",
              "    .colab-df-convert {\n",
              "      background-color: #E8F0FE;\n",
              "      border: none;\n",
              "      border-radius: 50%;\n",
              "      cursor: pointer;\n",
              "      display: none;\n",
              "      fill: #1967D2;\n",
              "      height: 32px;\n",
              "      padding: 0 0 0 0;\n",
              "      width: 32px;\n",
              "    }\n",
              "\n",
              "    .colab-df-convert:hover {\n",
              "      background-color: #E2EBFA;\n",
              "      box-shadow: 0px 1px 2px rgba(60, 64, 67, 0.3), 0px 1px 3px 1px rgba(60, 64, 67, 0.15);\n",
              "      fill: #174EA6;\n",
              "    }\n",
              "\n",
              "    [theme=dark] .colab-df-convert {\n",
              "      background-color: #3B4455;\n",
              "      fill: #D2E3FC;\n",
              "    }\n",
              "\n",
              "    [theme=dark] .colab-df-convert:hover {\n",
              "      background-color: #434B5C;\n",
              "      box-shadow: 0px 1px 3px 1px rgba(0, 0, 0, 0.15);\n",
              "      filter: drop-shadow(0px 1px 2px rgba(0, 0, 0, 0.3));\n",
              "      fill: #FFFFFF;\n",
              "    }\n",
              "  </style>\n",
              "\n",
              "      <script>\n",
              "        const buttonEl =\n",
              "          document.querySelector('#df-224a538f-e9c6-4a5c-841f-a43eec88b055 button.colab-df-convert');\n",
              "        buttonEl.style.display =\n",
              "          google.colab.kernel.accessAllowed ? 'block' : 'none';\n",
              "\n",
              "        async function convertToInteractive(key) {\n",
              "          const element = document.querySelector('#df-224a538f-e9c6-4a5c-841f-a43eec88b055');\n",
              "          const dataTable =\n",
              "            await google.colab.kernel.invokeFunction('convertToInteractive',\n",
              "                                                     [key], {});\n",
              "          if (!dataTable) return;\n",
              "\n",
              "          const docLinkHtml = 'Like what you see? Visit the ' +\n",
              "            '<a target=\"_blank\" href=https://colab.research.google.com/notebooks/data_table.ipynb>data table notebook</a>'\n",
              "            + ' to learn more about interactive tables.';\n",
              "          element.innerHTML = '';\n",
              "          dataTable['output_type'] = 'display_data';\n",
              "          await google.colab.output.renderOutput(dataTable, element);\n",
              "          const docLink = document.createElement('div');\n",
              "          docLink.innerHTML = docLinkHtml;\n",
              "          element.appendChild(docLink);\n",
              "        }\n",
              "      </script>\n",
              "    </div>\n",
              "  </div>\n",
              "  "
            ]
          },
          "metadata": {},
          "execution_count": 67
        }
      ]
    },
    {
      "cell_type": "code",
      "source": [
        "df = correlations.merge(topics_df,\n",
        "                        left_on = 'topic_id',\n",
        "                    right_on = 'id').merge(content_df,\n",
        "                                                left_on = 'content_id',\n",
        "                                            right_on = 'id',\n",
        "                                            suffixes=('_topic', '_content'))\n",
        "df.head()"
      ],
      "metadata": {
        "colab": {
          "base_uri": "https://localhost:8080/",
          "height": 513
        },
        "id": "gOxoFEBfPK_A",
        "outputId": "de6eee24-113f-4acb-d6b5-6d5a44ad0e64"
      },
      "execution_count": 68,
      "outputs": [
        {
          "output_type": "execute_result",
          "data": {
            "text/plain": [
              "         topic_id      content_id                 title_topic  \\\n",
              "0  t_00004da3a1b2  c_b59bc701c446  Откриването на резисторите   \n",
              "1  t_00004da3a1b2  c_0962b290dcd2  Откриването на резисторите   \n",
              "2  t_00004da3a1b2  c_3adfc7d4ebb5  Откриването на резисторите   \n",
              "3  t_00004da3a1b2  c_d9f2fdeff0aa  Откриването на резисторите   \n",
              "4  t_00004da3a1b2  c_0041092041cd  Откриването на резисторите   \n",
              "\n",
              "                                   description_topic channel category  level  \\\n",
              "0  Изследване на материали, които предизвикват на...  000cf7   source      4   \n",
              "1  Изследване на материали, които предизвикват на...  000cf7   source      4   \n",
              "2  Изследване на материали, които предизвикват на...  000cf7   source      4   \n",
              "3  Изследване на материали, които предизвикват на...  000cf7   source      4   \n",
              "4  Изследване на материали, които предизвикват на...  000cf7   source      4   \n",
              "\n",
              "  language_topic          parent  has_content  \\\n",
              "0             bg  t_16e29365b50d         True   \n",
              "1             bg  t_16e29365b50d         True   \n",
              "2             bg  t_16e29365b50d         True   \n",
              "3             bg  t_16e29365b50d         True   \n",
              "4             bg  t_16e29365b50d         True   \n",
              "\n",
              "                                       title_content  \\\n",
              "0         Изчисляване на изрази с няколко променливи   \n",
              "1  Построяване образ на правоъгълник при осева си...   \n",
              "2  Решаване на изрази с една променлива величина ...   \n",
              "3                                Уравнения със скоби   \n",
              "4  Доказателство на формулата за намиране на коре...   \n",
              "\n",
              "                                 description_content      kind text  \\\n",
              "0  Упражнявай решаване на изрази с две неизвестни...  exercise        \n",
              "1  Едно по-старо видео, в което Сал използва инте...     video        \n",
              "2  Упражни заместването със стойност на променлив...  exercise        \n",
              "3  Упражнявай решаване на задачи с прилагане на р...  exercise        \n",
              "4  Сал извежда формулата за намиране на корените ...     video        \n",
              "\n",
              "  language_content copyright_holder license  \n",
              "0               bg                           \n",
              "1               bg                           \n",
              "2               bg                           \n",
              "3               bg                           \n",
              "4               bg                           "
            ],
            "text/html": [
              "\n",
              "  <div id=\"df-8abdc2b3-e18c-4409-b6f5-d776b2883fc8\">\n",
              "    <div class=\"colab-df-container\">\n",
              "      <div>\n",
              "<style scoped>\n",
              "    .dataframe tbody tr th:only-of-type {\n",
              "        vertical-align: middle;\n",
              "    }\n",
              "\n",
              "    .dataframe tbody tr th {\n",
              "        vertical-align: top;\n",
              "    }\n",
              "\n",
              "    .dataframe thead th {\n",
              "        text-align: right;\n",
              "    }\n",
              "</style>\n",
              "<table border=\"1\" class=\"dataframe\">\n",
              "  <thead>\n",
              "    <tr style=\"text-align: right;\">\n",
              "      <th></th>\n",
              "      <th>topic_id</th>\n",
              "      <th>content_id</th>\n",
              "      <th>title_topic</th>\n",
              "      <th>description_topic</th>\n",
              "      <th>channel</th>\n",
              "      <th>category</th>\n",
              "      <th>level</th>\n",
              "      <th>language_topic</th>\n",
              "      <th>parent</th>\n",
              "      <th>has_content</th>\n",
              "      <th>title_content</th>\n",
              "      <th>description_content</th>\n",
              "      <th>kind</th>\n",
              "      <th>text</th>\n",
              "      <th>language_content</th>\n",
              "      <th>copyright_holder</th>\n",
              "      <th>license</th>\n",
              "    </tr>\n",
              "  </thead>\n",
              "  <tbody>\n",
              "    <tr>\n",
              "      <th>0</th>\n",
              "      <td>t_00004da3a1b2</td>\n",
              "      <td>c_b59bc701c446</td>\n",
              "      <td>Откриването на резисторите</td>\n",
              "      <td>Изследване на материали, които предизвикват на...</td>\n",
              "      <td>000cf7</td>\n",
              "      <td>source</td>\n",
              "      <td>4</td>\n",
              "      <td>bg</td>\n",
              "      <td>t_16e29365b50d</td>\n",
              "      <td>True</td>\n",
              "      <td>Изчисляване на изрази с няколко променливи</td>\n",
              "      <td>Упражнявай решаване на изрази с две неизвестни...</td>\n",
              "      <td>exercise</td>\n",
              "      <td></td>\n",
              "      <td>bg</td>\n",
              "      <td></td>\n",
              "      <td></td>\n",
              "    </tr>\n",
              "    <tr>\n",
              "      <th>1</th>\n",
              "      <td>t_00004da3a1b2</td>\n",
              "      <td>c_0962b290dcd2</td>\n",
              "      <td>Откриването на резисторите</td>\n",
              "      <td>Изследване на материали, които предизвикват на...</td>\n",
              "      <td>000cf7</td>\n",
              "      <td>source</td>\n",
              "      <td>4</td>\n",
              "      <td>bg</td>\n",
              "      <td>t_16e29365b50d</td>\n",
              "      <td>True</td>\n",
              "      <td>Построяване образ на правоъгълник при осева си...</td>\n",
              "      <td>Едно по-старо видео, в което Сал използва инте...</td>\n",
              "      <td>video</td>\n",
              "      <td></td>\n",
              "      <td>bg</td>\n",
              "      <td></td>\n",
              "      <td></td>\n",
              "    </tr>\n",
              "    <tr>\n",
              "      <th>2</th>\n",
              "      <td>t_00004da3a1b2</td>\n",
              "      <td>c_3adfc7d4ebb5</td>\n",
              "      <td>Откриването на резисторите</td>\n",
              "      <td>Изследване на материали, които предизвикват на...</td>\n",
              "      <td>000cf7</td>\n",
              "      <td>source</td>\n",
              "      <td>4</td>\n",
              "      <td>bg</td>\n",
              "      <td>t_16e29365b50d</td>\n",
              "      <td>True</td>\n",
              "      <td>Решаване на изрази с една променлива величина ...</td>\n",
              "      <td>Упражни заместването със стойност на променлив...</td>\n",
              "      <td>exercise</td>\n",
              "      <td></td>\n",
              "      <td>bg</td>\n",
              "      <td></td>\n",
              "      <td></td>\n",
              "    </tr>\n",
              "    <tr>\n",
              "      <th>3</th>\n",
              "      <td>t_00004da3a1b2</td>\n",
              "      <td>c_d9f2fdeff0aa</td>\n",
              "      <td>Откриването на резисторите</td>\n",
              "      <td>Изследване на материали, които предизвикват на...</td>\n",
              "      <td>000cf7</td>\n",
              "      <td>source</td>\n",
              "      <td>4</td>\n",
              "      <td>bg</td>\n",
              "      <td>t_16e29365b50d</td>\n",
              "      <td>True</td>\n",
              "      <td>Уравнения със скоби</td>\n",
              "      <td>Упражнявай решаване на задачи с прилагане на р...</td>\n",
              "      <td>exercise</td>\n",
              "      <td></td>\n",
              "      <td>bg</td>\n",
              "      <td></td>\n",
              "      <td></td>\n",
              "    </tr>\n",
              "    <tr>\n",
              "      <th>4</th>\n",
              "      <td>t_00004da3a1b2</td>\n",
              "      <td>c_0041092041cd</td>\n",
              "      <td>Откриването на резисторите</td>\n",
              "      <td>Изследване на материали, които предизвикват на...</td>\n",
              "      <td>000cf7</td>\n",
              "      <td>source</td>\n",
              "      <td>4</td>\n",
              "      <td>bg</td>\n",
              "      <td>t_16e29365b50d</td>\n",
              "      <td>True</td>\n",
              "      <td>Доказателство на формулата за намиране на коре...</td>\n",
              "      <td>Сал извежда формулата за намиране на корените ...</td>\n",
              "      <td>video</td>\n",
              "      <td></td>\n",
              "      <td>bg</td>\n",
              "      <td></td>\n",
              "      <td></td>\n",
              "    </tr>\n",
              "  </tbody>\n",
              "</table>\n",
              "</div>\n",
              "      <button class=\"colab-df-convert\" onclick=\"convertToInteractive('df-8abdc2b3-e18c-4409-b6f5-d776b2883fc8')\"\n",
              "              title=\"Convert this dataframe to an interactive table.\"\n",
              "              style=\"display:none;\">\n",
              "        \n",
              "  <svg xmlns=\"http://www.w3.org/2000/svg\" height=\"24px\"viewBox=\"0 0 24 24\"\n",
              "       width=\"24px\">\n",
              "    <path d=\"M0 0h24v24H0V0z\" fill=\"none\"/>\n",
              "    <path d=\"M18.56 5.44l.94 2.06.94-2.06 2.06-.94-2.06-.94-.94-2.06-.94 2.06-2.06.94zm-11 1L8.5 8.5l.94-2.06 2.06-.94-2.06-.94L8.5 2.5l-.94 2.06-2.06.94zm10 10l.94 2.06.94-2.06 2.06-.94-2.06-.94-.94-2.06-.94 2.06-2.06.94z\"/><path d=\"M17.41 7.96l-1.37-1.37c-.4-.4-.92-.59-1.43-.59-.52 0-1.04.2-1.43.59L10.3 9.45l-7.72 7.72c-.78.78-.78 2.05 0 2.83L4 21.41c.39.39.9.59 1.41.59.51 0 1.02-.2 1.41-.59l7.78-7.78 2.81-2.81c.8-.78.8-2.07 0-2.86zM5.41 20L4 18.59l7.72-7.72 1.47 1.35L5.41 20z\"/>\n",
              "  </svg>\n",
              "      </button>\n",
              "      \n",
              "  <style>\n",
              "    .colab-df-container {\n",
              "      display:flex;\n",
              "      flex-wrap:wrap;\n",
              "      gap: 12px;\n",
              "    }\n",
              "\n",
              "    .colab-df-convert {\n",
              "      background-color: #E8F0FE;\n",
              "      border: none;\n",
              "      border-radius: 50%;\n",
              "      cursor: pointer;\n",
              "      display: none;\n",
              "      fill: #1967D2;\n",
              "      height: 32px;\n",
              "      padding: 0 0 0 0;\n",
              "      width: 32px;\n",
              "    }\n",
              "\n",
              "    .colab-df-convert:hover {\n",
              "      background-color: #E2EBFA;\n",
              "      box-shadow: 0px 1px 2px rgba(60, 64, 67, 0.3), 0px 1px 3px 1px rgba(60, 64, 67, 0.15);\n",
              "      fill: #174EA6;\n",
              "    }\n",
              "\n",
              "    [theme=dark] .colab-df-convert {\n",
              "      background-color: #3B4455;\n",
              "      fill: #D2E3FC;\n",
              "    }\n",
              "\n",
              "    [theme=dark] .colab-df-convert:hover {\n",
              "      background-color: #434B5C;\n",
              "      box-shadow: 0px 1px 3px 1px rgba(0, 0, 0, 0.15);\n",
              "      filter: drop-shadow(0px 1px 2px rgba(0, 0, 0, 0.3));\n",
              "      fill: #FFFFFF;\n",
              "    }\n",
              "  </style>\n",
              "\n",
              "      <script>\n",
              "        const buttonEl =\n",
              "          document.querySelector('#df-8abdc2b3-e18c-4409-b6f5-d776b2883fc8 button.colab-df-convert');\n",
              "        buttonEl.style.display =\n",
              "          google.colab.kernel.accessAllowed ? 'block' : 'none';\n",
              "\n",
              "        async function convertToInteractive(key) {\n",
              "          const element = document.querySelector('#df-8abdc2b3-e18c-4409-b6f5-d776b2883fc8');\n",
              "          const dataTable =\n",
              "            await google.colab.kernel.invokeFunction('convertToInteractive',\n",
              "                                                     [key], {});\n",
              "          if (!dataTable) return;\n",
              "\n",
              "          const docLinkHtml = 'Like what you see? Visit the ' +\n",
              "            '<a target=\"_blank\" href=https://colab.research.google.com/notebooks/data_table.ipynb>data table notebook</a>'\n",
              "            + ' to learn more about interactive tables.';\n",
              "          element.innerHTML = '';\n",
              "          dataTable['output_type'] = 'display_data';\n",
              "          await google.colab.output.renderOutput(dataTable, element);\n",
              "          const docLink = document.createElement('div');\n",
              "          docLink.innerHTML = docLinkHtml;\n",
              "          element.appendChild(docLink);\n",
              "        }\n",
              "      </script>\n",
              "    </div>\n",
              "  </div>\n",
              "  "
            ]
          },
          "metadata": {},
          "execution_count": 68
        }
      ]
    },
    {
      "cell_type": "code",
      "source": [
        "## all has contents - no breadcrums yet\n",
        "df.has_content.value_counts()"
      ],
      "metadata": {
        "id": "hiAief4DeUAl",
        "colab": {
          "base_uri": "https://localhost:8080/"
        },
        "outputId": "d993a320-6a10-473d-8437-d277e3337c5f"
      },
      "execution_count": 69,
      "outputs": [
        {
          "output_type": "execute_result",
          "data": {
            "text/plain": [
              "True    93\n",
              "Name: has_content, dtype: int64"
            ]
          },
          "metadata": {},
          "execution_count": 69
        }
      ]
    },
    {
      "cell_type": "code",
      "source": [
        "### select only the ones that have same language\n",
        "df = df.loc[df.language_content == df.language_topic]\n",
        "df.shape"
      ],
      "metadata": {
        "colab": {
          "base_uri": "https://localhost:8080/"
        },
        "id": "-o7HajfIXCki",
        "outputId": "da2b4837-ab29-4c25-e35f-2ed7aed3b45e"
      },
      "execution_count": 70,
      "outputs": [
        {
          "output_type": "execute_result",
          "data": {
            "text/plain": [
              "(81, 17)"
            ]
          },
          "metadata": {},
          "execution_count": 70
        }
      ]
    },
    {
      "cell_type": "code",
      "source": [
        "### only required columns\n",
        "req_col = ['text','title_content','description_content','title_topic','description_topic']\n",
        "ds = Dataset.from_pandas(df[req_col])\n",
        "ds"
      ],
      "metadata": {
        "colab": {
          "base_uri": "https://localhost:8080/"
        },
        "id": "_DXaWJlyXFTE",
        "outputId": "e8042aef-3d28-46f5-d5cb-5a2a4a6a2111"
      },
      "execution_count": 71,
      "outputs": [
        {
          "output_type": "execute_result",
          "data": {
            "text/plain": [
              "Dataset({\n",
              "    features: ['text', 'title_content', 'description_content', 'title_topic', 'description_topic', '__index_level_0__'],\n",
              "    num_rows: 81\n",
              "})"
            ]
          },
          "metadata": {},
          "execution_count": 71
        }
      ]
    },
    {
      "cell_type": "code",
      "source": [
        "# pre -process content text\n",
        "# df['masked_content_txt'] = df[['title_content','text']].apply(lambda row: row.text.strip().replace(row.title_content.strip(),\n",
        "#                                                                                                    '__MASKED__').strip().split(\"\\n\")[0][:100],\n",
        "#                                                                axis = 1)\n",
        "def clean_content_text(examples):\n",
        "        return {\n",
        "        'masked_content_txt': (\n",
        "                                examples['text']#.strip()\n",
        "                               .replace(examples['title_content'].strip(), '__MASKED__').strip()\n",
        "                               .split(\"\\n\")[0][:100]\n",
        "        )\n",
        "    }\n",
        "\n",
        "ds = ds.map(clean_content_text)"
      ],
      "metadata": {
        "colab": {
          "base_uri": "https://localhost:8080/",
          "height": 17,
          "referenced_widgets": [
            "28c203c3793748fdaa85ca2365784321",
            "b7bdcd4cd1ec4aeb811d07d58b237b64",
            "9610f9f56ded450d88034a8d7f8bedfa",
            "9dbabd6f23894ecca8c1d5b4b6ccf89c",
            "492a22c122cc494791786e6a89315de6",
            "fc51476bf175415cb2f5038c085454f1",
            "1063817847ee43c987c186c5c0c7a708",
            "0f70f45de6fd4bb384b6a2d1366b3d67",
            "05b3925893c24beaafd6f2376e2e599d",
            "375bb23faa4d41bd86baa6b84360fb4f",
            "b3a4ae76df5f4c2c8019d9b5c8481296"
          ]
        },
        "id": "SeByb1DZda4v",
        "outputId": "e623ad56-b4db-46f1-80f9-638f3869b7fb"
      },
      "execution_count": 72,
      "outputs": [
        {
          "output_type": "display_data",
          "data": {
            "text/plain": [
              "Map:   0%|          | 0/81 [00:00<?, ? examples/s]"
            ],
            "application/vnd.jupyter.widget-view+json": {
              "version_major": 2,
              "version_minor": 0,
              "model_id": "28c203c3793748fdaa85ca2365784321"
            }
          },
          "metadata": {
            "application/vnd.jupyter.widget-view+json": {
              "colab": {
                "custom_widget_manager": {
                  "url": "https://ssl.gstatic.com/colaboratory-static/widgets/colab-cdn-widget-manager/b3e629b1971e1542/manager.min.js"
                }
              }
            }
          }
        }
      ]
    },
    {
      "cell_type": "code",
      "source": [
        "# df['input'] =  \"CONTENT: \" + (df[\"title_content\"]\n",
        "#         + \" \\n \"\n",
        "#         + df[\"description_content\"].str.strip()\n",
        "#         + \" \\n \"\n",
        "#         + df[\"masked_content_txt\"]).str.strip() + \" TOPIC: \" + (df[\"title_topic\"]\n",
        "#         + \" \\n \"\n",
        "#         + df[\"description_topic\"].str.strip()\n",
        "#         ).str.strip()\n",
        "def create_input(examples):\n",
        "    return {\n",
        "                'input': \"CONTENT: \" + (examples[\"title_content\"]\n",
        "                + \" \\n \"\n",
        "                + examples[\"description_content\"].strip()\n",
        "                + \" \\n \"\n",
        "                + examples[\"masked_content_txt\"]).strip() \n",
        "                + \" \\n \"\n",
        "                + \"TOPIC: \" + (examples[\"title_topic\"]\n",
        "                + \" \\n \"\n",
        "                + examples[\"description_topic\"].strip()\n",
        "                ).strip()\n",
        "}\n",
        "\n",
        "ds = ds.map(create_input)"
      ],
      "metadata": {
        "colab": {
          "base_uri": "https://localhost:8080/",
          "height": 17,
          "referenced_widgets": [
            "6cfa72af24c441688022d59b951fd7ba",
            "28117c2a221d446ca2c3de08698828b3",
            "b432375eafa149cb831d82fe67a484e0",
            "f9754ae578934460bd726eb5cdc6c941",
            "b6b60dd5d29440d294f80337196c2d35",
            "1a253c51e56444daa8fa79c7064fca63",
            "29f89ee80e514d6283ddc72af3a9b713",
            "a1bf1afd3dbc4757b858b857335878fd",
            "d0e7d9839715441ebbd6947c2d6691b5",
            "7eec632676f3490c8ada8298d00ae87f",
            "ebad8d1dd569488f9491fe4f8f4ea0e7"
          ]
        },
        "id": "dtGaLu6JXPJK",
        "outputId": "36da5ddc-5854-490e-fca5-90cff55187fd"
      },
      "execution_count": 73,
      "outputs": [
        {
          "output_type": "display_data",
          "data": {
            "text/plain": [
              "Map:   0%|          | 0/81 [00:00<?, ? examples/s]"
            ],
            "application/vnd.jupyter.widget-view+json": {
              "version_major": 2,
              "version_minor": 0,
              "model_id": "6cfa72af24c441688022d59b951fd7ba"
            }
          },
          "metadata": {
            "application/vnd.jupyter.widget-view+json": {
              "colab": {
                "custom_widget_manager": {
                  "url": "https://ssl.gstatic.com/colaboratory-static/widgets/colab-cdn-widget-manager/b3e629b1971e1542/manager.min.js"
                }
              }
            }
          }
        }
      ]
    },
    {
      "cell_type": "code",
      "source": [
        "model_nm = 'xlm-roberta-base'\n",
        "# 'bert-base-multilingual-cased'"
      ],
      "metadata": {
        "id": "RykytviuhgAM"
      },
      "execution_count": 74,
      "outputs": []
    },
    {
      "cell_type": "code",
      "source": [
        "tokz = AutoTokenizer.from_pretrained(model_nm)\n",
        "tokz.model_max_length, tokz.is_fast"
      ],
      "metadata": {
        "colab": {
          "base_uri": "https://localhost:8080/"
        },
        "id": "R0yXmxm3hgsp",
        "outputId": "040e2d83-0557-472b-b4a0-7e9d9ae7a331"
      },
      "execution_count": 75,
      "outputs": [
        {
          "output_type": "execute_result",
          "data": {
            "text/plain": [
              "(512, True)"
            ]
          },
          "metadata": {},
          "execution_count": 75
        }
      ]
    },
    {
      "cell_type": "code",
      "source": [
        "# helper function cleaning GPU memory\n",
        "def report_gpu():\n",
        "    if is_colab: print(torch.cuda.list_gpu_processes())\n",
        "    gc.collect()\n",
        "    torch.cuda.empty_cache()\n",
        "report_gpu()"
      ],
      "metadata": {
        "id": "O4dTUY--wjoA",
        "colab": {
          "base_uri": "https://localhost:8080/"
        },
        "outputId": "f95c11b1-0677-434b-e4b6-2b020712b2d0"
      },
      "execution_count": 76,
      "outputs": [
        {
          "output_type": "stream",
          "name": "stdout",
          "text": [
            "GPU:0\n",
            "process      12681 uses     4936.000 MB GPU memory\n"
          ]
        }
      ]
    },
    {
      "cell_type": "code",
      "source": [
        "# def tok_func(batch, is_test = False): \n",
        "#     tokens = tokz(batch[\"input\"], padding=\"longest\", truncation=True)\n",
        "#     return tokens\n",
        "# tok_ds = ds.map(tok_func, batched=True)\n",
        "\n",
        "raw_inputs = ds['input']\n",
        "inputs = tokz(raw_inputs, padding=\"longest\",truncation = True, return_tensors=\"pt\")"
      ],
      "metadata": {
        "colab": {
          "base_uri": "https://localhost:8080/"
        },
        "id": "NpaUQAg2jL8G",
        "outputId": "0bf6d272-b9ac-4a0d-9a51-55aecb312fd9"
      },
      "execution_count": 77,
      "outputs": [
        {
          "output_type": "execute_result",
          "data": {
            "text/plain": [
              "{'input_ids': tensor([[     0,      6, 108369,  ...,      1,      1,      1],\n",
              "        [     0,      6, 108369,  ...,      1,      1,      1],\n",
              "        [     0,      6, 108369,  ...,      1,      1,      1],\n",
              "        ...,\n",
              "        [     0,      6, 108369,  ...,      8,     51,      2],\n",
              "        [     0,      6, 108369,  ...,   3919,      5,      2],\n",
              "        [     0,      6, 108369,  ..., 116287,      7,      2]]), 'attention_mask': tensor([[1, 1, 1,  ..., 0, 0, 0],\n",
              "        [1, 1, 1,  ..., 0, 0, 0],\n",
              "        [1, 1, 1,  ..., 0, 0, 0],\n",
              "        ...,\n",
              "        [1, 1, 1,  ..., 1, 1, 1],\n",
              "        [1, 1, 1,  ..., 1, 1, 1],\n",
              "        [1, 1, 1,  ..., 1, 1, 1]])}"
            ]
          },
          "metadata": {},
          "execution_count": 77
        }
      ]
    },
    {
      "cell_type": "code",
      "source": [
        "report_gpu()\n",
        "model = AutoModelForSequenceClassification.from_pretrained(model_save_path).to(device)"
      ],
      "metadata": {
        "colab": {
          "base_uri": "https://localhost:8080/"
        },
        "id": "CvEzgpOhvDK-",
        "outputId": "c37aec54-a84a-459e-ff3d-90855ca1b619"
      },
      "execution_count": 78,
      "outputs": [
        {
          "output_type": "stream",
          "name": "stdout",
          "text": [
            "GPU:0\n",
            "process      12681 uses     2136.000 MB GPU memory\n"
          ]
        }
      ]
    },
    {
      "cell_type": "code",
      "source": [
        "batch_size = 128\n",
        "predicted_lables = []\n",
        "for i in range(0,len(raw_inputs),batch_size):\n",
        "    inputs = tokz(raw_inputs[i: i + batch_size],\n",
        "                  padding=\"longest\",\n",
        "                  truncation = True,\n",
        "                  return_tensors=\"pt\").to(device)\n",
        "    with torch.no_grad():\n",
        "        outputs = model(**inputs)\n",
        "    sm_preds = torch.nn.functional.softmax(outputs.logits, dim=-1)\n",
        "    predicted_lables.extend(torch.argmax(sm_preds, dim = -1).cpu().numpy())\n",
        "    \n",
        "len(predicted_lables)"
      ],
      "metadata": {
        "colab": {
          "base_uri": "https://localhost:8080/"
        },
        "id": "6IyNYK_a2fDS",
        "outputId": "d947ab64-b6e9-41cf-8ed5-2d5ec5d8d49a"
      },
      "execution_count": 79,
      "outputs": [
        {
          "output_type": "execute_result",
          "data": {
            "text/plain": [
              "81"
            ]
          },
          "metadata": {},
          "execution_count": 79
        }
      ]
    },
    {
      "cell_type": "code",
      "source": [
        "### prepare final output - based on th eprediction\n",
        "df['pred_label'] = predicted_lables\n",
        "sub_df = df.loc[df['pred_label'] ==1,['topic_id', 'content_id']]\n",
        "sub_df['content_ids'] = (sub_df\n",
        "          .groupby(['topic_id'])['content_id']\n",
        "          .transform(lambda x: ' '.join(x)))\n",
        "sub_df = sub_df.drop(columns = ['content_id']).drop_duplicates()\n",
        "sub_df.head()"
      ],
      "metadata": {
        "id": "jbnEKVR25pdT",
        "colab": {
          "base_uri": "https://localhost:8080/",
          "height": 49
        },
        "outputId": "d5e37e28-d62f-4f02-b654-b70ce0006b27"
      },
      "execution_count": 91,
      "outputs": [
        {
          "output_type": "execute_result",
          "data": {
            "text/plain": [
              "Empty DataFrame\n",
              "Columns: [topic_id, content_ids]\n",
              "Index: []"
            ],
            "text/html": [
              "\n",
              "  <div id=\"df-02ba6b21-34eb-44dd-92bc-6e5853b77815\">\n",
              "    <div class=\"colab-df-container\">\n",
              "      <div>\n",
              "<style scoped>\n",
              "    .dataframe tbody tr th:only-of-type {\n",
              "        vertical-align: middle;\n",
              "    }\n",
              "\n",
              "    .dataframe tbody tr th {\n",
              "        vertical-align: top;\n",
              "    }\n",
              "\n",
              "    .dataframe thead th {\n",
              "        text-align: right;\n",
              "    }\n",
              "</style>\n",
              "<table border=\"1\" class=\"dataframe\">\n",
              "  <thead>\n",
              "    <tr style=\"text-align: right;\">\n",
              "      <th></th>\n",
              "      <th>topic_id</th>\n",
              "      <th>content_ids</th>\n",
              "    </tr>\n",
              "  </thead>\n",
              "  <tbody>\n",
              "  </tbody>\n",
              "</table>\n",
              "</div>\n",
              "      <button class=\"colab-df-convert\" onclick=\"convertToInteractive('df-02ba6b21-34eb-44dd-92bc-6e5853b77815')\"\n",
              "              title=\"Convert this dataframe to an interactive table.\"\n",
              "              style=\"display:none;\">\n",
              "        \n",
              "  <svg xmlns=\"http://www.w3.org/2000/svg\" height=\"24px\"viewBox=\"0 0 24 24\"\n",
              "       width=\"24px\">\n",
              "    <path d=\"M0 0h24v24H0V0z\" fill=\"none\"/>\n",
              "    <path d=\"M18.56 5.44l.94 2.06.94-2.06 2.06-.94-2.06-.94-.94-2.06-.94 2.06-2.06.94zm-11 1L8.5 8.5l.94-2.06 2.06-.94-2.06-.94L8.5 2.5l-.94 2.06-2.06.94zm10 10l.94 2.06.94-2.06 2.06-.94-2.06-.94-.94-2.06-.94 2.06-2.06.94z\"/><path d=\"M17.41 7.96l-1.37-1.37c-.4-.4-.92-.59-1.43-.59-.52 0-1.04.2-1.43.59L10.3 9.45l-7.72 7.72c-.78.78-.78 2.05 0 2.83L4 21.41c.39.39.9.59 1.41.59.51 0 1.02-.2 1.41-.59l7.78-7.78 2.81-2.81c.8-.78.8-2.07 0-2.86zM5.41 20L4 18.59l7.72-7.72 1.47 1.35L5.41 20z\"/>\n",
              "  </svg>\n",
              "      </button>\n",
              "      \n",
              "  <style>\n",
              "    .colab-df-container {\n",
              "      display:flex;\n",
              "      flex-wrap:wrap;\n",
              "      gap: 12px;\n",
              "    }\n",
              "\n",
              "    .colab-df-convert {\n",
              "      background-color: #E8F0FE;\n",
              "      border: none;\n",
              "      border-radius: 50%;\n",
              "      cursor: pointer;\n",
              "      display: none;\n",
              "      fill: #1967D2;\n",
              "      height: 32px;\n",
              "      padding: 0 0 0 0;\n",
              "      width: 32px;\n",
              "    }\n",
              "\n",
              "    .colab-df-convert:hover {\n",
              "      background-color: #E2EBFA;\n",
              "      box-shadow: 0px 1px 2px rgba(60, 64, 67, 0.3), 0px 1px 3px 1px rgba(60, 64, 67, 0.15);\n",
              "      fill: #174EA6;\n",
              "    }\n",
              "\n",
              "    [theme=dark] .colab-df-convert {\n",
              "      background-color: #3B4455;\n",
              "      fill: #D2E3FC;\n",
              "    }\n",
              "\n",
              "    [theme=dark] .colab-df-convert:hover {\n",
              "      background-color: #434B5C;\n",
              "      box-shadow: 0px 1px 3px 1px rgba(0, 0, 0, 0.15);\n",
              "      filter: drop-shadow(0px 1px 2px rgba(0, 0, 0, 0.3));\n",
              "      fill: #FFFFFF;\n",
              "    }\n",
              "  </style>\n",
              "\n",
              "      <script>\n",
              "        const buttonEl =\n",
              "          document.querySelector('#df-02ba6b21-34eb-44dd-92bc-6e5853b77815 button.colab-df-convert');\n",
              "        buttonEl.style.display =\n",
              "          google.colab.kernel.accessAllowed ? 'block' : 'none';\n",
              "\n",
              "        async function convertToInteractive(key) {\n",
              "          const element = document.querySelector('#df-02ba6b21-34eb-44dd-92bc-6e5853b77815');\n",
              "          const dataTable =\n",
              "            await google.colab.kernel.invokeFunction('convertToInteractive',\n",
              "                                                     [key], {});\n",
              "          if (!dataTable) return;\n",
              "\n",
              "          const docLinkHtml = 'Like what you see? Visit the ' +\n",
              "            '<a target=\"_blank\" href=https://colab.research.google.com/notebooks/data_table.ipynb>data table notebook</a>'\n",
              "            + ' to learn more about interactive tables.';\n",
              "          element.innerHTML = '';\n",
              "          dataTable['output_type'] = 'display_data';\n",
              "          await google.colab.output.renderOutput(dataTable, element);\n",
              "          const docLink = document.createElement('div');\n",
              "          docLink.innerHTML = docLinkHtml;\n",
              "          element.appendChild(docLink);\n",
              "        }\n",
              "      </script>\n",
              "    </div>\n",
              "  </div>\n",
              "  "
            ]
          },
          "metadata": {},
          "execution_count": 91
        }
      ]
    },
    {
      "cell_type": "code",
      "source": [
        "## additional topic ids for which no prediction is made\n",
        "max_topics = 3\n",
        "correlation_df = correlation_df.reset_index()\n",
        "addtional_tid = list(set(correlation_df.topic_id).difference(set(sub_df.topic_id)))\n",
        "add_df = correlation_df.loc[correlation_df.topic_id.isin(addtional_tid)]\n",
        "add_df['content_ids'] = add_df['content_ids'].apply(lambda x: ' '.join(x.split()[:max_topics]))\n",
        "add_df.head()"
      ],
      "metadata": {
        "colab": {
          "base_uri": "https://localhost:8080/",
          "height": 206
        },
        "id": "6bY4S0yHzpiW",
        "outputId": "6aa37641-6816-4d00-f136-fd77205469b4"
      },
      "execution_count": 92,
      "outputs": [
        {
          "output_type": "execute_result",
          "data": {
            "text/plain": [
              "   level_0  index        topic_id  \\\n",
              "0        0      0  t_00004da3a1b2   \n",
              "1        1      1  t_00068291e9a4   \n",
              "2        2      2  t_00069b63a70a   \n",
              "3        3      3  t_0006d41a73a8   \n",
              "4        4      4  t_4054df11a74e   \n",
              "\n",
              "                                    content_ids  \n",
              "0  c_b59bc701c446 c_0962b290dcd2 c_3adfc7d4ebb5  \n",
              "1  c_85e7c0954384 c_ebb7fdf10a7e c_639ea2ef9c95  \n",
              "2  c_31caf438f66a c_a6db0765d460 c_ac592c567023  \n",
              "3  c_33699a2b161f c_2e165cfa1a05 c_9ad0e8f170e5  \n",
              "4  c_f2d184a98231 c_3695c5dc1df6 c_52f9df7e611a  "
            ],
            "text/html": [
              "\n",
              "  <div id=\"df-f6e6f6b7-c592-4db4-8d78-00ae92a6b4af\">\n",
              "    <div class=\"colab-df-container\">\n",
              "      <div>\n",
              "<style scoped>\n",
              "    .dataframe tbody tr th:only-of-type {\n",
              "        vertical-align: middle;\n",
              "    }\n",
              "\n",
              "    .dataframe tbody tr th {\n",
              "        vertical-align: top;\n",
              "    }\n",
              "\n",
              "    .dataframe thead th {\n",
              "        text-align: right;\n",
              "    }\n",
              "</style>\n",
              "<table border=\"1\" class=\"dataframe\">\n",
              "  <thead>\n",
              "    <tr style=\"text-align: right;\">\n",
              "      <th></th>\n",
              "      <th>level_0</th>\n",
              "      <th>index</th>\n",
              "      <th>topic_id</th>\n",
              "      <th>content_ids</th>\n",
              "    </tr>\n",
              "  </thead>\n",
              "  <tbody>\n",
              "    <tr>\n",
              "      <th>0</th>\n",
              "      <td>0</td>\n",
              "      <td>0</td>\n",
              "      <td>t_00004da3a1b2</td>\n",
              "      <td>c_b59bc701c446 c_0962b290dcd2 c_3adfc7d4ebb5</td>\n",
              "    </tr>\n",
              "    <tr>\n",
              "      <th>1</th>\n",
              "      <td>1</td>\n",
              "      <td>1</td>\n",
              "      <td>t_00068291e9a4</td>\n",
              "      <td>c_85e7c0954384 c_ebb7fdf10a7e c_639ea2ef9c95</td>\n",
              "    </tr>\n",
              "    <tr>\n",
              "      <th>2</th>\n",
              "      <td>2</td>\n",
              "      <td>2</td>\n",
              "      <td>t_00069b63a70a</td>\n",
              "      <td>c_31caf438f66a c_a6db0765d460 c_ac592c567023</td>\n",
              "    </tr>\n",
              "    <tr>\n",
              "      <th>3</th>\n",
              "      <td>3</td>\n",
              "      <td>3</td>\n",
              "      <td>t_0006d41a73a8</td>\n",
              "      <td>c_33699a2b161f c_2e165cfa1a05 c_9ad0e8f170e5</td>\n",
              "    </tr>\n",
              "    <tr>\n",
              "      <th>4</th>\n",
              "      <td>4</td>\n",
              "      <td>4</td>\n",
              "      <td>t_4054df11a74e</td>\n",
              "      <td>c_f2d184a98231 c_3695c5dc1df6 c_52f9df7e611a</td>\n",
              "    </tr>\n",
              "  </tbody>\n",
              "</table>\n",
              "</div>\n",
              "      <button class=\"colab-df-convert\" onclick=\"convertToInteractive('df-f6e6f6b7-c592-4db4-8d78-00ae92a6b4af')\"\n",
              "              title=\"Convert this dataframe to an interactive table.\"\n",
              "              style=\"display:none;\">\n",
              "        \n",
              "  <svg xmlns=\"http://www.w3.org/2000/svg\" height=\"24px\"viewBox=\"0 0 24 24\"\n",
              "       width=\"24px\">\n",
              "    <path d=\"M0 0h24v24H0V0z\" fill=\"none\"/>\n",
              "    <path d=\"M18.56 5.44l.94 2.06.94-2.06 2.06-.94-2.06-.94-.94-2.06-.94 2.06-2.06.94zm-11 1L8.5 8.5l.94-2.06 2.06-.94-2.06-.94L8.5 2.5l-.94 2.06-2.06.94zm10 10l.94 2.06.94-2.06 2.06-.94-2.06-.94-.94-2.06-.94 2.06-2.06.94z\"/><path d=\"M17.41 7.96l-1.37-1.37c-.4-.4-.92-.59-1.43-.59-.52 0-1.04.2-1.43.59L10.3 9.45l-7.72 7.72c-.78.78-.78 2.05 0 2.83L4 21.41c.39.39.9.59 1.41.59.51 0 1.02-.2 1.41-.59l7.78-7.78 2.81-2.81c.8-.78.8-2.07 0-2.86zM5.41 20L4 18.59l7.72-7.72 1.47 1.35L5.41 20z\"/>\n",
              "  </svg>\n",
              "      </button>\n",
              "      \n",
              "  <style>\n",
              "    .colab-df-container {\n",
              "      display:flex;\n",
              "      flex-wrap:wrap;\n",
              "      gap: 12px;\n",
              "    }\n",
              "\n",
              "    .colab-df-convert {\n",
              "      background-color: #E8F0FE;\n",
              "      border: none;\n",
              "      border-radius: 50%;\n",
              "      cursor: pointer;\n",
              "      display: none;\n",
              "      fill: #1967D2;\n",
              "      height: 32px;\n",
              "      padding: 0 0 0 0;\n",
              "      width: 32px;\n",
              "    }\n",
              "\n",
              "    .colab-df-convert:hover {\n",
              "      background-color: #E2EBFA;\n",
              "      box-shadow: 0px 1px 2px rgba(60, 64, 67, 0.3), 0px 1px 3px 1px rgba(60, 64, 67, 0.15);\n",
              "      fill: #174EA6;\n",
              "    }\n",
              "\n",
              "    [theme=dark] .colab-df-convert {\n",
              "      background-color: #3B4455;\n",
              "      fill: #D2E3FC;\n",
              "    }\n",
              "\n",
              "    [theme=dark] .colab-df-convert:hover {\n",
              "      background-color: #434B5C;\n",
              "      box-shadow: 0px 1px 3px 1px rgba(0, 0, 0, 0.15);\n",
              "      filter: drop-shadow(0px 1px 2px rgba(0, 0, 0, 0.3));\n",
              "      fill: #FFFFFF;\n",
              "    }\n",
              "  </style>\n",
              "\n",
              "      <script>\n",
              "        const buttonEl =\n",
              "          document.querySelector('#df-f6e6f6b7-c592-4db4-8d78-00ae92a6b4af button.colab-df-convert');\n",
              "        buttonEl.style.display =\n",
              "          google.colab.kernel.accessAllowed ? 'block' : 'none';\n",
              "\n",
              "        async function convertToInteractive(key) {\n",
              "          const element = document.querySelector('#df-f6e6f6b7-c592-4db4-8d78-00ae92a6b4af');\n",
              "          const dataTable =\n",
              "            await google.colab.kernel.invokeFunction('convertToInteractive',\n",
              "                                                     [key], {});\n",
              "          if (!dataTable) return;\n",
              "\n",
              "          const docLinkHtml = 'Like what you see? Visit the ' +\n",
              "            '<a target=\"_blank\" href=https://colab.research.google.com/notebooks/data_table.ipynb>data table notebook</a>'\n",
              "            + ' to learn more about interactive tables.';\n",
              "          element.innerHTML = '';\n",
              "          dataTable['output_type'] = 'display_data';\n",
              "          await google.colab.output.renderOutput(dataTable, element);\n",
              "          const docLink = document.createElement('div');\n",
              "          docLink.innerHTML = docLinkHtml;\n",
              "          element.appendChild(docLink);\n",
              "        }\n",
              "      </script>\n",
              "    </div>\n",
              "  </div>\n",
              "  "
            ]
          },
          "metadata": {},
          "execution_count": 92
        }
      ]
    },
    {
      "cell_type": "code",
      "source": [
        "## merge every thing\n",
        "sub_df = pd.concat([sub_df,add_df])\n",
        "sub_df.head()"
      ],
      "metadata": {
        "colab": {
          "base_uri": "https://localhost:8080/",
          "height": 206
        },
        "id": "mTFKyTPR8EHs",
        "outputId": "737b42af-125b-44b8-eaaa-d25595a67e43"
      },
      "execution_count": 82,
      "outputs": [
        {
          "output_type": "execute_result",
          "data": {
            "text/plain": [
              "         topic_id  content_id                                   content_ids\n",
              "0  t_00004da3a1b2         NaN  c_b59bc701c446 c_0962b290dcd2 c_3adfc7d4ebb5\n",
              "1  t_00068291e9a4         NaN  c_85e7c0954384 c_ebb7fdf10a7e c_639ea2ef9c95\n",
              "2  t_00069b63a70a         NaN  c_31caf438f66a c_a6db0765d460 c_ac592c567023\n",
              "3  t_0006d41a73a8         NaN  c_33699a2b161f c_2e165cfa1a05 c_9ad0e8f170e5\n",
              "4  t_4054df11a74e         NaN  c_f2d184a98231 c_3695c5dc1df6 c_52f9df7e611a"
            ],
            "text/html": [
              "\n",
              "  <div id=\"df-dfefd2c4-a55c-4f2f-b6d5-fd2ce31de75b\">\n",
              "    <div class=\"colab-df-container\">\n",
              "      <div>\n",
              "<style scoped>\n",
              "    .dataframe tbody tr th:only-of-type {\n",
              "        vertical-align: middle;\n",
              "    }\n",
              "\n",
              "    .dataframe tbody tr th {\n",
              "        vertical-align: top;\n",
              "    }\n",
              "\n",
              "    .dataframe thead th {\n",
              "        text-align: right;\n",
              "    }\n",
              "</style>\n",
              "<table border=\"1\" class=\"dataframe\">\n",
              "  <thead>\n",
              "    <tr style=\"text-align: right;\">\n",
              "      <th></th>\n",
              "      <th>topic_id</th>\n",
              "      <th>content_id</th>\n",
              "      <th>content_ids</th>\n",
              "    </tr>\n",
              "  </thead>\n",
              "  <tbody>\n",
              "    <tr>\n",
              "      <th>0</th>\n",
              "      <td>t_00004da3a1b2</td>\n",
              "      <td>NaN</td>\n",
              "      <td>c_b59bc701c446 c_0962b290dcd2 c_3adfc7d4ebb5</td>\n",
              "    </tr>\n",
              "    <tr>\n",
              "      <th>1</th>\n",
              "      <td>t_00068291e9a4</td>\n",
              "      <td>NaN</td>\n",
              "      <td>c_85e7c0954384 c_ebb7fdf10a7e c_639ea2ef9c95</td>\n",
              "    </tr>\n",
              "    <tr>\n",
              "      <th>2</th>\n",
              "      <td>t_00069b63a70a</td>\n",
              "      <td>NaN</td>\n",
              "      <td>c_31caf438f66a c_a6db0765d460 c_ac592c567023</td>\n",
              "    </tr>\n",
              "    <tr>\n",
              "      <th>3</th>\n",
              "      <td>t_0006d41a73a8</td>\n",
              "      <td>NaN</td>\n",
              "      <td>c_33699a2b161f c_2e165cfa1a05 c_9ad0e8f170e5</td>\n",
              "    </tr>\n",
              "    <tr>\n",
              "      <th>4</th>\n",
              "      <td>t_4054df11a74e</td>\n",
              "      <td>NaN</td>\n",
              "      <td>c_f2d184a98231 c_3695c5dc1df6 c_52f9df7e611a</td>\n",
              "    </tr>\n",
              "  </tbody>\n",
              "</table>\n",
              "</div>\n",
              "      <button class=\"colab-df-convert\" onclick=\"convertToInteractive('df-dfefd2c4-a55c-4f2f-b6d5-fd2ce31de75b')\"\n",
              "              title=\"Convert this dataframe to an interactive table.\"\n",
              "              style=\"display:none;\">\n",
              "        \n",
              "  <svg xmlns=\"http://www.w3.org/2000/svg\" height=\"24px\"viewBox=\"0 0 24 24\"\n",
              "       width=\"24px\">\n",
              "    <path d=\"M0 0h24v24H0V0z\" fill=\"none\"/>\n",
              "    <path d=\"M18.56 5.44l.94 2.06.94-2.06 2.06-.94-2.06-.94-.94-2.06-.94 2.06-2.06.94zm-11 1L8.5 8.5l.94-2.06 2.06-.94-2.06-.94L8.5 2.5l-.94 2.06-2.06.94zm10 10l.94 2.06.94-2.06 2.06-.94-2.06-.94-.94-2.06-.94 2.06-2.06.94z\"/><path d=\"M17.41 7.96l-1.37-1.37c-.4-.4-.92-.59-1.43-.59-.52 0-1.04.2-1.43.59L10.3 9.45l-7.72 7.72c-.78.78-.78 2.05 0 2.83L4 21.41c.39.39.9.59 1.41.59.51 0 1.02-.2 1.41-.59l7.78-7.78 2.81-2.81c.8-.78.8-2.07 0-2.86zM5.41 20L4 18.59l7.72-7.72 1.47 1.35L5.41 20z\"/>\n",
              "  </svg>\n",
              "      </button>\n",
              "      \n",
              "  <style>\n",
              "    .colab-df-container {\n",
              "      display:flex;\n",
              "      flex-wrap:wrap;\n",
              "      gap: 12px;\n",
              "    }\n",
              "\n",
              "    .colab-df-convert {\n",
              "      background-color: #E8F0FE;\n",
              "      border: none;\n",
              "      border-radius: 50%;\n",
              "      cursor: pointer;\n",
              "      display: none;\n",
              "      fill: #1967D2;\n",
              "      height: 32px;\n",
              "      padding: 0 0 0 0;\n",
              "      width: 32px;\n",
              "    }\n",
              "\n",
              "    .colab-df-convert:hover {\n",
              "      background-color: #E2EBFA;\n",
              "      box-shadow: 0px 1px 2px rgba(60, 64, 67, 0.3), 0px 1px 3px 1px rgba(60, 64, 67, 0.15);\n",
              "      fill: #174EA6;\n",
              "    }\n",
              "\n",
              "    [theme=dark] .colab-df-convert {\n",
              "      background-color: #3B4455;\n",
              "      fill: #D2E3FC;\n",
              "    }\n",
              "\n",
              "    [theme=dark] .colab-df-convert:hover {\n",
              "      background-color: #434B5C;\n",
              "      box-shadow: 0px 1px 3px 1px rgba(0, 0, 0, 0.15);\n",
              "      filter: drop-shadow(0px 1px 2px rgba(0, 0, 0, 0.3));\n",
              "      fill: #FFFFFF;\n",
              "    }\n",
              "  </style>\n",
              "\n",
              "      <script>\n",
              "        const buttonEl =\n",
              "          document.querySelector('#df-dfefd2c4-a55c-4f2f-b6d5-fd2ce31de75b button.colab-df-convert');\n",
              "        buttonEl.style.display =\n",
              "          google.colab.kernel.accessAllowed ? 'block' : 'none';\n",
              "\n",
              "        async function convertToInteractive(key) {\n",
              "          const element = document.querySelector('#df-dfefd2c4-a55c-4f2f-b6d5-fd2ce31de75b');\n",
              "          const dataTable =\n",
              "            await google.colab.kernel.invokeFunction('convertToInteractive',\n",
              "                                                     [key], {});\n",
              "          if (!dataTable) return;\n",
              "\n",
              "          const docLinkHtml = 'Like what you see? Visit the ' +\n",
              "            '<a target=\"_blank\" href=https://colab.research.google.com/notebooks/data_table.ipynb>data table notebook</a>'\n",
              "            + ' to learn more about interactive tables.';\n",
              "          element.innerHTML = '';\n",
              "          dataTable['output_type'] = 'display_data';\n",
              "          await google.colab.output.renderOutput(dataTable, element);\n",
              "          const docLink = document.createElement('div');\n",
              "          docLink.innerHTML = docLinkHtml;\n",
              "          element.appendChild(docLink);\n",
              "        }\n",
              "      </script>\n",
              "    </div>\n",
              "  </div>\n",
              "  "
            ]
          },
          "metadata": {},
          "execution_count": 82
        }
      ]
    },
    {
      "cell_type": "code",
      "source": [
        "## write final outcome\n",
        "sub_df.to_csv('submission.csv', index = False)"
      ],
      "metadata": {
        "id": "tI36qsFe1uKa"
      },
      "execution_count": 83,
      "outputs": []
    },
    {
      "cell_type": "code",
      "source": [
        "if not iskaggle:\n",
        "    push_notebook('saan', comp,\n",
        "                  title='LECR: XLMR - inference',\n",
        "                  file='/content/drive/MyDrive/Colab Notebooks/lecr_inference.ipynb',\n",
        "                  competition=comp, private=True, gpu=True)"
      ],
      "metadata": {
        "id": "-s7xqaVp1ue2",
        "colab": {
          "base_uri": "https://localhost:8080/"
        },
        "outputId": "c3647967-0769-48a4-ae80-7447fc95e46a"
      },
      "execution_count": 90,
      "outputs": [
        {
          "output_type": "stream",
          "name": "stdout",
          "text": [
            "Your kernel title does not resolve to the specified id. This may result in surprising behavior. We suggest making your title something that resolves to the specified id. See https://en.wikipedia.org/wiki/Clean_URL#Slug for more information on how slugs are determined.\n",
            "Kernel version 1 successfully pushed.  Please check progress at https://www.kaggle.com/code/saansd2003/lecr-xlmr-inference\n"
          ]
        }
      ]
    },
    {
      "cell_type": "code",
      "source": [],
      "metadata": {
        "id": "gI7f8uogyoSv"
      },
      "execution_count": null,
      "outputs": []
    }
  ]
}